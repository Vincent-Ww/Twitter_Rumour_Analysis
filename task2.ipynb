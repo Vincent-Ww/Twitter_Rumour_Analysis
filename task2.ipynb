{
 "cells": [
  {
   "cell_type": "code",
   "execution_count": 3,
   "metadata": {},
   "outputs": [],
   "source": [
    "import json\n",
    "import string\n",
    "import pandas as pd\n",
    "import numpy as np\n",
    "import re\n",
    "import nltk\n",
    "from nltk.corpus import stopwords\n",
    "# nltk.download('stopwords')\n",
    "# nltk.download('punkt')\n",
    "# nltk.download('wordnet')\n",
    "from nltk.tokenize import word_tokenize\n",
    "from keras.preprocessing.text import Tokenizer\n",
    "from sklearn.metrics import precision_recall_fscore_support\n",
    "import time\n",
    "from datetime import datetime\n",
    "from collections import Counter\n",
    "import torch\n",
    "import torch.nn as nn\n",
    "import torch.optim as optim\n",
    "from torch.utils.data import Dataset\n",
    "from torch.utils.data import DataLoader\n",
    "from transformers import BertModel\n",
    "from transformers import BertTokenizer\n",
    "from transformers import AdamW\n",
    "from sklearn.metrics import precision_recall_fscore_support\n",
    "from sklearn.metrics import confusion_matrix"
   ]
  },
  {
   "cell_type": "code",
   "execution_count": null,
   "metadata": {},
   "outputs": [],
   "source": []
  },
  {
   "cell_type": "code",
   "execution_count": 25,
   "metadata": {},
   "outputs": [],
   "source": [
    "covid_data = [json.loads(event) for event in open('project-data/covid.data.jsonl', \"r\").readlines()]\n",
    "# covid_data = covid_data[:64]"
   ]
  },
  {
   "cell_type": "code",
   "execution_count": 26,
   "metadata": {},
   "outputs": [
    {
     "data": {
      "text/plain": [
       "Counter({'Tenet': 1})"
      ]
     },
     "execution_count": 26,
     "metadata": {},
     "output_type": "execute_result"
    }
   ],
   "source": [
    "# {hashtag_event}\n",
    "# hashtag_event = {hashtag, frequencies}\n",
    "\n",
    "hashtags = []                          \n",
    "for event in covid_data:\n",
    "    event_hashtags = []\n",
    "    for tw in event:\n",
    "        twitter_hashtags = tw['entities']['hashtags']\n",
    "        for hashtag in twitter_hashtags:\n",
    "            event_hashtags.append(hashtag['text'])\n",
    "    hashtags.append(Counter(event_hashtags))\n",
    "    \n",
    "hashtags[0]"
   ]
  },
  {
   "cell_type": "code",
   "execution_count": 27,
   "metadata": {},
   "outputs": [
    {
     "data": {
      "text/plain": [
       "[{'followers_count': 26179,\n",
       "  'friends_count': 18,\n",
       "  'listed_count': 112,\n",
       "  'statuses_count': 2512,\n",
       "  'favourites_count': 537,\n",
       "  'verified': False}]"
      ]
     },
     "execution_count": 27,
     "metadata": {},
     "output_type": "execute_result"
    }
   ],
   "source": [
    "users_info = []\n",
    "\n",
    "for event in covid_data:\n",
    "    event_users_info = []\n",
    "    for tw in event:\n",
    "        tw_user = tw['user']\n",
    "        tw_user_info = {\"followers_count\": tw_user[\"followers_count\"],      # The number of followers this account currently has. \n",
    "                       \"friends_count\": tw_user[\"friends_count\"],           # The number of users this account is following (AKA their “followings”)\n",
    "                       \"listed_count\": tw_user[\"listed_count\"],             # The number of public lists that this user is a member of\n",
    "                       \"statuses_count\": tw_user[\"statuses_count\"],         # The number of Tweets (including retweets) issued by the user\n",
    "                       \"favourites_count\": tw_user[\"favourites_count\"],     # The number of Tweets this user has liked in the account’s lifetime.\n",
    "                       \"verified\": tw_user[\"verified\"]                      # When true, indicates that the user has a verified account.\n",
    "                       }\n",
    "        event_users_info.append(tw_user_info)\n",
    "    users_info.append(event_users_info)\n",
    "    \n",
    "users_info[0]"
   ]
  },
  {
   "cell_type": "code",
   "execution_count": 28,
   "metadata": {},
   "outputs": [
    {
     "data": {
      "text/plain": [
       "17458"
      ]
     },
     "execution_count": 28,
     "metadata": {},
     "output_type": "execute_result"
    }
   ],
   "source": [
    "len(covid_data)"
   ]
  },
  {
   "cell_type": "code",
   "execution_count": 29,
   "metadata": {},
   "outputs": [],
   "source": [
    "rum_users_info = []\n",
    "nonrum_users_info = []\n",
    "\n",
    "for i in range(len(bert_preds)):\n",
    "    if bert_preds[i] == 1:\n",
    "        rum_users_info.append(users_info[i])\n",
    "    elif bert_preds[i] == 0:\n",
    "        nonrum_users_info.append(users_info[i])"
   ]
  },
  {
   "cell_type": "code",
   "execution_count": 9,
   "metadata": {},
   "outputs": [],
   "source": [
    "bert_preds = torch.load(\"preds.pt\")"
   ]
  },
  {
   "cell_type": "code",
   "execution_count": 31,
   "metadata": {},
   "outputs": [],
   "source": [
    "rum_sources_info = [event[0] for event in rum_users_info]\n",
    "# rum_replies_info = [event[1:] for event in rum_users_info]\n",
    "\n",
    "nonrum_sources_info = [event[0] for event in nonrum_users_info]\n",
    "# nonrum_replies_info = [event[1:] for event in nonrum_users_info]"
   ]
  },
  {
   "cell_type": "code",
   "execution_count": 55,
   "metadata": {},
   "outputs": [
    {
     "data": {
      "text/plain": [
       "{'followers_count': 1986767,\n",
       " 'friends_count': 96,\n",
       " 'listed_count': 8114,\n",
       " 'statuses_count': 14406,\n",
       " 'favourites_count': 665,\n",
       " 'verified': True}"
      ]
     },
     "execution_count": 55,
     "metadata": {},
     "output_type": "execute_result"
    }
   ],
   "source": [
    "rum_sources_info[0]"
   ]
  },
  {
   "cell_type": "code",
   "execution_count": 56,
   "metadata": {},
   "outputs": [],
   "source": [
    "sources_follow_counts = [s[\"followers_count\"] for s in rum_sources_info]\n",
    "sources_friend_counts = [s[\"friends_count\"] for s in rum_sources_info]\n",
    "sources_list_counts = [s[\"listed_count\"] for s in rum_sources_info]\n",
    "sources_statuse_counts = [s[\"statuses_count\"] for s in rum_sources_info]\n",
    "sources_favourite_counts = [s[\"favourites_count\"] for s in rum_sources_info]\n",
    "sources_verified = [s[\"verified\"] for s in rum_sources_info]"
   ]
  },
  {
   "cell_type": "code",
   "execution_count": 64,
   "metadata": {},
   "outputs": [
    {
     "data": {
      "text/plain": [
       "<matplotlib.axes._subplots.AxesSubplot at 0x246d0713e50>"
      ]
     },
     "execution_count": 64,
     "metadata": {},
     "output_type": "execute_result"
    },
    {
     "data": {
      "image/png": "[encoded data removed]",
      "text/plain": [
       "<Figure size 432x288 with 1 Axes>"
      ]
     },
     "metadata": {
      "needs_background": "light"
     },
     "output_type": "display_data"
    }
   ],
   "source": [
    "pd.Series(sources_follow_counts).hist(bins=500)"
   ]
  },
  {
   "cell_type": "code",
   "execution_count": 53,
   "metadata": {},
   "outputs": [
    {
     "name": "stdout",
     "output_type": "stream",
     "text": [
      "follow_counts\n",
      "means:  4136863.111198738\n",
      "means:  408805.0\n",
      "variance:  11396283.53388727\n",
      "\n",
      "friend_counts\n",
      "means:  6965.899842271293\n",
      "means:  1040.0\n",
      "variance:  22874.385015130138\n",
      "\n",
      "list_counts\n",
      "means:  14546.0\n",
      "means:  2162.0\n",
      "variance:  34390.07291911\n",
      "\n",
      "statuses_counts\n",
      "means:  144600.02602523658\n",
      "means:  62813.0\n",
      "variance:  184417.96725608394\n",
      "\n",
      "favourites_counts\n",
      "means:  24090.609621451105\n",
      "means:  2829.5\n",
      "variance:  70707.39007132531\n",
      "\n",
      "verified\n",
      "means:  0.7602523659305994\n",
      "means:  1.0\n",
      "variance:  0.426929392320938\n",
      "\n"
     ]
    }
   ],
   "source": [
    "def print_stats(name, nums):\n",
    "    print(name)\n",
    "    print(\"means: \", np.mean(nums))\n",
    "    print(\"means: \", np.median(nums))\n",
    "    print(\"variance: \", np.std(nums))\n",
    "    print()\n",
    "    \n",
    "print_stats(\"follow_counts\", sources_follow_counts)\n",
    "print_stats(\"friend_counts\", sources_friend_counts)\n",
    "print_stats(\"list_counts\", sources_list_counts)\n",
    "print_stats(\"statuses_counts\", sources_statuse_counts)\n",
    "print_stats(\"favourites_counts\", sources_favourite_counts)\n",
    "print_stats(\"verified\", sources_verified)"
   ]
  },
  {
   "cell_type": "code",
   "execution_count": 60,
   "metadata": {
    "scrolled": true
   },
   "outputs": [
    {
     "name": "stdout",
     "output_type": "stream",
     "text": [
      "follow_counts\n",
      "means:  5447267.924397777\n",
      "means:  387772.0\n",
      "variance:  15163737.448621502\n",
      "\n",
      "friend_counts\n",
      "means:  7935.383323038913\n",
      "means:  1106.0\n",
      "variance:  30086.093635487217\n",
      "\n",
      "list_counts\n",
      "means:  15522.178937615812\n",
      "means:  2202.0\n",
      "variance:  35024.57398193761\n",
      "\n",
      "statuses_counts\n",
      "means:  113796.57930821495\n",
      "means:  39039.5\n",
      "variance:  168994.72483384045\n",
      "\n",
      "favourites_counts\n",
      "means:  24288.141630636193\n",
      "means:  3164.5\n",
      "variance:  62197.14864137262\n",
      "\n",
      "verified\n",
      "means:  0.7421865348980853\n",
      "means:  1.0\n",
      "variance:  0.43743077431069993\n",
      "\n"
     ]
    },
    {
     "data": {
      "image/png": "[encoded data removed]",
      "text/plain": [
       "<Figure size 432x288 with 1 Axes>"
      ]
     },
     "metadata": {
      "needs_background": "light"
     },
     "output_type": "display_data"
    }
   ],
   "source": [
    "sources_follow_counts = [s[\"followers_count\"] for s in nonrum_sources_info]\n",
    "sources_friend_counts = [s[\"friends_count\"] for s in nonrum_sources_info]\n",
    "sources_list_counts = [s[\"listed_count\"] for s in nonrum_sources_info]\n",
    "sources_statuse_counts = [s[\"statuses_count\"] for s in nonrum_sources_info]\n",
    "sources_favourite_counts = [s[\"favourites_count\"] for s in nonrum_sources_info]\n",
    "sources_verified = [s[\"verified\"] for s in nonrum_sources_info]\n",
    "\n",
    "\n",
    "print_stats(\"follow_counts\", sources_follow_counts)\n",
    "print_stats(\"friend_counts\", sources_friend_counts)\n",
    "print_stats(\"list_counts\", sources_list_counts)\n",
    "print_stats(\"statuses_counts\", sources_statuse_counts)\n",
    "print_stats(\"favourites_counts\", sources_favourite_counts)\n",
    "print_stats(\"verified\", sources_verified)"
   ]
  },
  {
   "cell_type": "code",
   "execution_count": 63,
   "metadata": {
    "scrolled": true
   },
   "outputs": [
    {
     "data": {
      "text/plain": [
       "<matplotlib.axes._subplots.AxesSubplot at 0x246d0160040>"
      ]
     },
     "execution_count": 63,
     "metadata": {},
     "output_type": "execute_result"
    },
    {
     "data": {
      "image/png": "[encoded data removed]",
      "text/plain": [
       "<Figure size 432x288 with 1 Axes>"
      ]
     },
     "metadata": {
      "needs_background": "light"
     },
     "output_type": "display_data"
    }
   ],
   "source": [
    "pd.Series(sources_follow_counts).hist(bins=500)"
   ]
  },
  {
   "cell_type": "code",
   "execution_count": null,
   "metadata": {},
   "outputs": [],
   "source": []
  },
  {
   "cell_type": "code",
   "execution_count": null,
   "metadata": {},
   "outputs": [],
   "source": []
  },
  {
   "cell_type": "code",
   "execution_count": null,
   "metadata": {},
   "outputs": [],
   "source": []
  },
  {
   "cell_type": "code",
   "execution_count": null,
   "metadata": {},
   "outputs": [],
   "source": [
    "class RumourClassifier3(nn.Module):\n",
    "    def __init__(self):\n",
    "        super(RumourClassifier3, self).__init__()\n",
    "        self.bert_layer = BertModel.from_pretrained('bert-base-uncased')\n",
    "        self.cls_layer = nn.Linear(768, 1)\n",
    "        self.dropout = nn.Dropout(0.9)\n",
    "\n",
    "    def forward(self, seq, attn_masks, token_type_ids):\n",
    "        '''\n",
    "        Inputs:\n",
    "          -seq: Tensor of shape [B, T] containing token ids of sequences\n",
    "          -attn_masks: Tensor of shape [B, T] containing attention masks to be used\n",
    "        '''\n",
    "        # feed the input to bert model to obtain contextualized representation\n",
    "        outputs = self.bert_layer(seq, attention_mask=attn_masks, token_type_ids=token_type_ids)\n",
    "        cont_reps = outputs.last_hidden_state\n",
    "\n",
    "        # obtaining the representation of [CLS] head\n",
    "        cls_rep = cont_reps[:, 0]\n",
    "\n",
    "        # pooled_output = self.dropout(cls_rep)\n",
    "\n",
    "        # feeding cls_rep into the classifier layer\n",
    "        logits = self.cls_layer(cls_rep)\n",
    "\n",
    "        return logits"
   ]
  },
  {
   "cell_type": "code",
   "execution_count": null,
   "metadata": {},
   "outputs": [],
   "source": [
    "bert_net = RumourClassifier3()\n",
    "bert_net.load_state_dict(torch.load(\"preds/adamw_50_date.dat\"))"
   ]
  },
  {
   "cell_type": "code",
   "execution_count": null,
   "metadata": {},
   "outputs": [],
   "source": [
    "def predict(net, dataloader, gpu):\n",
    "    net.eval()\n",
    "    preds = []\n",
    "    mean_acc, mean_loss, mean_precision, mean_recall = 0, 0, 0, 0\n",
    "    count = 0\n",
    "    tn, fp, fn, tp = 0, 0, 0, 0\n",
    "    with torch.no_grad():\n",
    "        for seq, attn_masks, token_type_ids, labels in dataloader:\n",
    "            bs = labels.shape[0]\n",
    "            seq, attn_masks, token_type_ids, labels = seq.cuda(gpu), attn_masks.cuda(gpu), token_type_ids.cuda(gpu), labels.cuda(gpu)\n",
    "            logits = net(seq, attn_masks, token_type_ids)\n",
    "            preds.append(logits)\n",
    "    return preds"
   ]
  },
  {
   "cell_type": "code",
   "execution_count": null,
   "metadata": {},
   "outputs": [],
   "source": []
  },
  {
   "cell_type": "code",
   "execution_count": null,
   "metadata": {},
   "outputs": [],
   "source": [
    "def to_date(date_str):\n",
    "    return datetime.strftime(datetime.strptime(date_str,'%a %b %d %H:%M:%S +0000 %Y'), '%Y-%m-%d %H:%M:%S')\n",
    "\n",
    "covid_data_sort = [sorted(event, key=lambda x : to_date(x[\"created_at\"])) for event in covid_data]"
   ]
  },
  {
   "cell_type": "code",
   "execution_count": null,
   "metadata": {},
   "outputs": [],
   "source": [
    "# remove url\n",
    "def remove_urls(vTEXT):\n",
    "    vTEXT = re.sub(r'(https|http)?:\\/\\/(\\w|\\.|\\/|\\?|\\=|\\&|\\%)*\\b', '', vTEXT, flags=re.MULTILINE)\n",
    "    return(vTEXT)\n",
    "\n",
    "def remove_ats(vTEXT):\n",
    "    vTEXT = re.sub(r'@[^\\s]* ', '', vTEXT, flags=re.MULTILINE)\n",
    "    return(vTEXT)\n",
    "\n",
    "def extract_info(data, info=\"text\"):\n",
    "    res = []\n",
    "    for i in range(len(data)):\n",
    "        event = data[i]\n",
    "        event_info = []\n",
    "        for tw in event:\n",
    "#             event_info.append(remove_ats(tw[info]))\n",
    "            event_info.append(remove_ats(remove_urls(tw[info])))\n",
    "        res.append(event_info)\n",
    "    return res\n",
    "\n",
    "covid_sents = extract_info(covid_data_sort)     # {event}  where event={source,apply1,apply2,...}"
   ]
  },
  {
   "cell_type": "code",
   "execution_count": null,
   "metadata": {},
   "outputs": [],
   "source": [
    "def combine_replies(replies):\n",
    "    res = \"\"\n",
    "    for r in replies:\n",
    "        res += r\n",
    "    return res\n",
    "\n",
    "covid_all = [[event[0], combine_replies(event[1:])] for event in covid_sents]"
   ]
  },
  {
   "cell_type": "code",
   "execution_count": null,
   "metadata": {},
   "outputs": [],
   "source": [
    "# define the dataset class\n",
    "class TwitrerDataset(Dataset):\n",
    "    def __init__(self, X, source_maxlen, reply_maxlen):\n",
    "        self.tokenizer = BertTokenizer.from_pretrained('bert-base-uncased')\n",
    "        self.source_maxlen = source_maxlen\n",
    "        self.reply_maxlen = reply_maxlen\n",
    "        self.X = X\n",
    "        print(\"init done\")\n",
    "        \n",
    "    def __len__(self):\n",
    "        return len(self.X)\n",
    "\n",
    "    def __getitem__(self, index):\n",
    "        # selecting the sentence at the specific index\n",
    "        print(\"1----------\")\n",
    "        source, replies = self.X[index]\n",
    "\n",
    "        # preprocessing the text to be suitable for BERT\n",
    "        s_tokens = self.tokenizer.tokenize(source)\n",
    "        s_tokens = ['[CLS]'] + s_tokens + ['[SEP']       # insert CLS and SEP token\n",
    "        if len(s_tokens) < self.source_maxlen:                # keep the same length of each sentence\n",
    "            s_tokens = s_tokens + ['[PAD]' for _ in range(self.source_maxlen-len(s_tokens))]\n",
    "        else:\n",
    "            s_tokens = s_tokens[:self.source_maxlen-1] + ['SEP']\n",
    "\n",
    "        print(\"2----------\")\n",
    "        r_tokens = self.tokenizer.tokenize(replies)\n",
    "        r_tokens = r_tokens + ['[SEP']\n",
    "        if len(r_tokens) < self.reply_maxlen:                # keep the same length of each sentence\n",
    "            r_tokens = r_tokens + ['[PAD]' for _ in range(self.reply_maxlen-len(r_tokens))]\n",
    "        else:\n",
    "            r_tokens = r_tokens[:self.reply_maxlen-1] + ['SEP']\n",
    "\n",
    "        print(\"3---------\")\n",
    "        tokens_ids = self.tokenizer.convert_tokens_to_ids(s_tokens) + self.tokenizer.convert_tokens_to_ids(r_tokens) # obtaining the indices of tokens in vocab\n",
    "        tokens_ids_tensor = torch.tensor(tokens_ids)   \n",
    "\n",
    "        attn_mask = (tokens_ids_tensor != 0).long()        # attention mask (identity where is padded)\n",
    "\n",
    "        token_type_ids = torch.tensor([0 for _ in range(source_maxlen)]+[1 for _ in range(reply_maxlen)])\n",
    "\n",
    "        return tokens_ids_tensor, attn_mask, token_type_ids        return tokens_ids_tensor, attn_mask, token_type_ids"
   ]
  },
  {
   "cell_type": "code",
   "execution_count": null,
   "metadata": {},
   "outputs": [],
   "source": [
    "# hyperparameters\n",
    "batch_size = 2\n",
    "num_worders = 2\n",
    "lr = 2e-5\n",
    "source_maxlen, reply_maxlen = 30, 30\n",
    "\n",
    "# creating instances of training and dev set\n",
    "covid_set = TwitrerDataset(covid_all, source_maxlen=source_maxlen, reply_maxlen=reply_maxlen)"
   ]
  },
  {
   "cell_type": "code",
   "execution_count": null,
   "metadata": {},
   "outputs": [],
   "source": [
    "covid_set"
   ]
  },
  {
   "cell_type": "code",
   "execution_count": null,
   "metadata": {},
   "outputs": [],
   "source": [
    "# creating dataset loader\n",
    "covid_loader = DataLoader(covid_set, batch_size=batch_size, num_workers=num_worders)\n",
    "\n",
    "print(\"Done preprocessing training and development data.\")"
   ]
  },
  {
   "cell_type": "code",
   "execution_count": null,
   "metadata": {},
   "outputs": [],
   "source": [
    "next(covid_loader)"
   ]
  },
  {
   "cell_type": "code",
   "execution_count": null,
   "metadata": {},
   "outputs": [],
   "source": [
    "for e in covid_loader:\n",
    "    print(e)\n",
    "    break"
   ]
  },
  {
   "cell_type": "code",
   "execution_count": null,
   "metadata": {},
   "outputs": [],
   "source": [
    "for it, e in enumerate(covid_loader):\n",
    "    print(it)\n",
    "    print(e)"
   ]
  },
  {
   "cell_type": "code",
   "execution_count": null,
   "metadata": {},
   "outputs": [],
   "source": []
  },
  {
   "cell_type": "code",
   "execution_count": null,
   "metadata": {},
   "outputs": [],
   "source": []
  },
  {
   "cell_type": "code",
   "execution_count": null,
   "metadata": {},
   "outputs": [],
   "source": []
  },
  {
   "cell_type": "code",
   "execution_count": null,
   "metadata": {},
   "outputs": [],
   "source": []
  },
  {
   "cell_type": "code",
   "execution_count": 2,
   "metadata": {},
   "outputs": [],
   "source": [
    "# !pip install spacytextblob, spacy\n",
    "# !python -m spacy download en_core_web_sm"
   ]
  },
  {
   "cell_type": "code",
   "execution_count": 9,
   "metadata": {},
   "outputs": [],
   "source": [
    "# polarity: float which lies in the range of [-1,1] where 1 means positive statement and -1 means a negative statement.\n",
    "# subjective: personal opinion, emotion or judgment whereas objective refers to factual information. Subjectivity is also a float which lies in the range of [0,1]."
   ]
  },
  {
   "cell_type": "code",
   "execution_count": 11,
   "metadata": {},
   "outputs": [
    {
     "name": "stdout",
     "output_type": "stream",
     "text": [
      "0.7\n",
      "0.6000000000000001\n",
      "[(['good'], 0.7, 0.6000000000000001, None)]\n"
     ]
    }
   ],
   "source": [
    "import spacy\n",
    "from spacytextblob.spacytextblob import SpacyTextBlob\n",
    "\n",
    "nlp = spacy.load('en_core_web_sm')\n",
    "nlp.add_pipe('spacytextblob')\n",
    "text = 'it is  a good thing '\n",
    "doc = nlp(text)\n",
    "print(doc._.polarity)      # Polarity: -0.125\n",
    "print(doc._.subjectivity)  # Sujectivity: 0.9\n",
    "print(doc._.assessments)   # Assessments: [(['really', 'horrible'], -1.0, 1.0, None), (['worst', '!'], -1.0, 1.0, None), (['really', 'good'], 0.7, 0.6000000000000001, None), (['happy'], 0.8, 1.0, None)]"
   ]
  },
  {
   "cell_type": "code",
   "execution_count": null,
   "metadata": {},
   "outputs": [],
   "source": []
  }
 ],
 "metadata": {
  "kernelspec": {
   "display_name": "Python [conda env:root] *",
   "language": "python",
   "name": "conda-root-py"
  },
  "language_info": {
   "codemirror_mode": {
    "name": "ipython",
    "version": 3
   },
   "file_extension": ".py",
   "mimetype": "text/x-python",
   "name": "python",
   "nbconvert_exporter": "python",
   "pygments_lexer": "ipython3",
   "version": "3.8.3"
  }
 },
 "nbformat": 4,
 "nbformat_minor": 4
}
