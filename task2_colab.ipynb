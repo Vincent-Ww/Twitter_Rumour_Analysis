{
  "nbformat": 4,
  "nbformat_minor": 0,
  "metadata": {
    "colab": {
      "name": "task2_colab.ipynb",
      "provenance": [],
      "collapsed_sections": [
        "hsJ_N2S-4Pki"
      ]
    },
    "kernelspec": {
      "name": "python3",
      "display_name": "Python 3"
    },
    "language_info": {
      "name": "python"
    },
    "accelerator": "GPU",
    "widgets": {
      "application/vnd.jupyter.widget-state+json": {
        "51e406d376a24b3f9a546519d0b88ee2": {
          "model_module": "@jupyter-widgets/controls",
          "model_name": "HBoxModel",
          "state": {
            "_view_name": "HBoxView",
            "_dom_classes": [],
            "_model_name": "HBoxModel",
            "_view_module": "@jupyter-widgets/controls",
            "_model_module_version": "1.5.0",
            "_view_count": null,
            "_view_module_version": "1.5.0",
            "box_style": "",
            "layout": "IPY_MODEL_206c3696cf2b4811ab441743db33dd7d",
            "_model_module": "@jupyter-widgets/controls",
            "children": [
              "IPY_MODEL_0f7c0fda42494b42bf372f45e2eaf4e0",
              "IPY_MODEL_fdf4d4b7663f4338bb243ac61ddcbbf8"
            ]
          }
        },
        "206c3696cf2b4811ab441743db33dd7d": {
          "model_module": "@jupyter-widgets/base",
          "model_name": "LayoutModel",
          "state": {
            "_view_name": "LayoutView",
            "grid_template_rows": null,
            "right": null,
            "justify_content": null,
            "_view_module": "@jupyter-widgets/base",
            "overflow": null,
            "_model_module_version": "1.2.0",
            "_view_count": null,
            "flex_flow": null,
            "width": null,
            "min_width": null,
            "border": null,
            "align_items": null,
            "bottom": null,
            "_model_module": "@jupyter-widgets/base",
            "top": null,
            "grid_column": null,
            "overflow_y": null,
            "overflow_x": null,
            "grid_auto_flow": null,
            "grid_area": null,
            "grid_template_columns": null,
            "flex": null,
            "_model_name": "LayoutModel",
            "justify_items": null,
            "grid_row": null,
            "max_height": null,
            "align_content": null,
            "visibility": null,
            "align_self": null,
            "height": null,
            "min_height": null,
            "padding": null,
            "grid_auto_rows": null,
            "grid_gap": null,
            "max_width": null,
            "order": null,
            "_view_module_version": "1.2.0",
            "grid_template_areas": null,
            "object_position": null,
            "object_fit": null,
            "grid_auto_columns": null,
            "margin": null,
            "display": null,
            "left": null
          }
        },
        "0f7c0fda42494b42bf372f45e2eaf4e0": {
          "model_module": "@jupyter-widgets/controls",
          "model_name": "FloatProgressModel",
          "state": {
            "_view_name": "ProgressView",
            "style": "IPY_MODEL_3809563d87644fbbbda84fc20e1c3bc9",
            "_dom_classes": [],
            "description": "Downloading: 100%",
            "_model_name": "FloatProgressModel",
            "bar_style": "success",
            "max": 231508,
            "_view_module": "@jupyter-widgets/controls",
            "_model_module_version": "1.5.0",
            "value": 231508,
            "_view_count": null,
            "_view_module_version": "1.5.0",
            "orientation": "horizontal",
            "min": 0,
            "description_tooltip": null,
            "_model_module": "@jupyter-widgets/controls",
            "layout": "IPY_MODEL_a66b805be9204796ae73a2fccd1b73a6"
          }
        },
        "fdf4d4b7663f4338bb243ac61ddcbbf8": {
          "model_module": "@jupyter-widgets/controls",
          "model_name": "HTMLModel",
          "state": {
            "_view_name": "HTMLView",
            "style": "IPY_MODEL_4dd7df35176043fc8f7b4ecc40fdc700",
            "_dom_classes": [],
            "description": "",
            "_model_name": "HTMLModel",
            "placeholder": "​",
            "_view_module": "@jupyter-widgets/controls",
            "_model_module_version": "1.5.0",
            "value": " 232k/232k [00:00&lt;00:00, 428kB/s]",
            "_view_count": null,
            "_view_module_version": "1.5.0",
            "description_tooltip": null,
            "_model_module": "@jupyter-widgets/controls",
            "layout": "IPY_MODEL_fc5945c361864c60a5a8c6cf07a55124"
          }
        },
        "3809563d87644fbbbda84fc20e1c3bc9": {
          "model_module": "@jupyter-widgets/controls",
          "model_name": "ProgressStyleModel",
          "state": {
            "_view_name": "StyleView",
            "_model_name": "ProgressStyleModel",
            "description_width": "initial",
            "_view_module": "@jupyter-widgets/base",
            "_model_module_version": "1.5.0",
            "_view_count": null,
            "_view_module_version": "1.2.0",
            "bar_color": null,
            "_model_module": "@jupyter-widgets/controls"
          }
        },
        "a66b805be9204796ae73a2fccd1b73a6": {
          "model_module": "@jupyter-widgets/base",
          "model_name": "LayoutModel",
          "state": {
            "_view_name": "LayoutView",
            "grid_template_rows": null,
            "right": null,
            "justify_content": null,
            "_view_module": "@jupyter-widgets/base",
            "overflow": null,
            "_model_module_version": "1.2.0",
            "_view_count": null,
            "flex_flow": null,
            "width": null,
            "min_width": null,
            "border": null,
            "align_items": null,
            "bottom": null,
            "_model_module": "@jupyter-widgets/base",
            "top": null,
            "grid_column": null,
            "overflow_y": null,
            "overflow_x": null,
            "grid_auto_flow": null,
            "grid_area": null,
            "grid_template_columns": null,
            "flex": null,
            "_model_name": "LayoutModel",
            "justify_items": null,
            "grid_row": null,
            "max_height": null,
            "align_content": null,
            "visibility": null,
            "align_self": null,
            "height": null,
            "min_height": null,
            "padding": null,
            "grid_auto_rows": null,
            "grid_gap": null,
            "max_width": null,
            "order": null,
            "_view_module_version": "1.2.0",
            "grid_template_areas": null,
            "object_position": null,
            "object_fit": null,
            "grid_auto_columns": null,
            "margin": null,
            "display": null,
            "left": null
          }
        },
        "4dd7df35176043fc8f7b4ecc40fdc700": {
          "model_module": "@jupyter-widgets/controls",
          "model_name": "DescriptionStyleModel",
          "state": {
            "_view_name": "StyleView",
            "_model_name": "DescriptionStyleModel",
            "description_width": "",
            "_view_module": "@jupyter-widgets/base",
            "_model_module_version": "1.5.0",
            "_view_count": null,
            "_view_module_version": "1.2.0",
            "_model_module": "@jupyter-widgets/controls"
          }
        },
        "fc5945c361864c60a5a8c6cf07a55124": {
          "model_module": "@jupyter-widgets/base",
          "model_name": "LayoutModel",
          "state": {
            "_view_name": "LayoutView",
            "grid_template_rows": null,
            "right": null,
            "justify_content": null,
            "_view_module": "@jupyter-widgets/base",
            "overflow": null,
            "_model_module_version": "1.2.0",
            "_view_count": null,
            "flex_flow": null,
            "width": null,
            "min_width": null,
            "border": null,
            "align_items": null,
            "bottom": null,
            "_model_module": "@jupyter-widgets/base",
            "top": null,
            "grid_column": null,
            "overflow_y": null,
            "overflow_x": null,
            "grid_auto_flow": null,
            "grid_area": null,
            "grid_template_columns": null,
            "flex": null,
            "_model_name": "LayoutModel",
            "justify_items": null,
            "grid_row": null,
            "max_height": null,
            "align_content": null,
            "visibility": null,
            "align_self": null,
            "height": null,
            "min_height": null,
            "padding": null,
            "grid_auto_rows": null,
            "grid_gap": null,
            "max_width": null,
            "order": null,
            "_view_module_version": "1.2.0",
            "grid_template_areas": null,
            "object_position": null,
            "object_fit": null,
            "grid_auto_columns": null,
            "margin": null,
            "display": null,
            "left": null
          }
        },
        "0e1824659b0047b3973df041c1c4fa61": {
          "model_module": "@jupyter-widgets/controls",
          "model_name": "HBoxModel",
          "state": {
            "_view_name": "HBoxView",
            "_dom_classes": [],
            "_model_name": "HBoxModel",
            "_view_module": "@jupyter-widgets/controls",
            "_model_module_version": "1.5.0",
            "_view_count": null,
            "_view_module_version": "1.5.0",
            "box_style": "",
            "layout": "IPY_MODEL_617e3506314d46eaadb69b8d0805a38c",
            "_model_module": "@jupyter-widgets/controls",
            "children": [
              "IPY_MODEL_797cd9c6667e4e86b148060350eebffe",
              "IPY_MODEL_fa642ce9802d452b842353ecafb545ea"
            ]
          }
        },
        "617e3506314d46eaadb69b8d0805a38c": {
          "model_module": "@jupyter-widgets/base",
          "model_name": "LayoutModel",
          "state": {
            "_view_name": "LayoutView",
            "grid_template_rows": null,
            "right": null,
            "justify_content": null,
            "_view_module": "@jupyter-widgets/base",
            "overflow": null,
            "_model_module_version": "1.2.0",
            "_view_count": null,
            "flex_flow": null,
            "width": null,
            "min_width": null,
            "border": null,
            "align_items": null,
            "bottom": null,
            "_model_module": "@jupyter-widgets/base",
            "top": null,
            "grid_column": null,
            "overflow_y": null,
            "overflow_x": null,
            "grid_auto_flow": null,
            "grid_area": null,
            "grid_template_columns": null,
            "flex": null,
            "_model_name": "LayoutModel",
            "justify_items": null,
            "grid_row": null,
            "max_height": null,
            "align_content": null,
            "visibility": null,
            "align_self": null,
            "height": null,
            "min_height": null,
            "padding": null,
            "grid_auto_rows": null,
            "grid_gap": null,
            "max_width": null,
            "order": null,
            "_view_module_version": "1.2.0",
            "grid_template_areas": null,
            "object_position": null,
            "object_fit": null,
            "grid_auto_columns": null,
            "margin": null,
            "display": null,
            "left": null
          }
        },
        "797cd9c6667e4e86b148060350eebffe": {
          "model_module": "@jupyter-widgets/controls",
          "model_name": "FloatProgressModel",
          "state": {
            "_view_name": "ProgressView",
            "style": "IPY_MODEL_9c116b08460943ed97829b1040de77b3",
            "_dom_classes": [],
            "description": "Downloading: 100%",
            "_model_name": "FloatProgressModel",
            "bar_style": "success",
            "max": 28,
            "_view_module": "@jupyter-widgets/controls",
            "_model_module_version": "1.5.0",
            "value": 28,
            "_view_count": null,
            "_view_module_version": "1.5.0",
            "orientation": "horizontal",
            "min": 0,
            "description_tooltip": null,
            "_model_module": "@jupyter-widgets/controls",
            "layout": "IPY_MODEL_50fd68038d77467a827a78abca98b8f7"
          }
        },
        "fa642ce9802d452b842353ecafb545ea": {
          "model_module": "@jupyter-widgets/controls",
          "model_name": "HTMLModel",
          "state": {
            "_view_name": "HTMLView",
            "style": "IPY_MODEL_9f368e6637d74828beafb006ba64732f",
            "_dom_classes": [],
            "description": "",
            "_model_name": "HTMLModel",
            "placeholder": "​",
            "_view_module": "@jupyter-widgets/controls",
            "_model_module_version": "1.5.0",
            "value": " 28.0/28.0 [00:00&lt;00:00, 63.3B/s]",
            "_view_count": null,
            "_view_module_version": "1.5.0",
            "description_tooltip": null,
            "_model_module": "@jupyter-widgets/controls",
            "layout": "IPY_MODEL_b6aa564ff85e4f0188c4e6b950c2b581"
          }
        },
        "9c116b08460943ed97829b1040de77b3": {
          "model_module": "@jupyter-widgets/controls",
          "model_name": "ProgressStyleModel",
          "state": {
            "_view_name": "StyleView",
            "_model_name": "ProgressStyleModel",
            "description_width": "initial",
            "_view_module": "@jupyter-widgets/base",
            "_model_module_version": "1.5.0",
            "_view_count": null,
            "_view_module_version": "1.2.0",
            "bar_color": null,
            "_model_module": "@jupyter-widgets/controls"
          }
        },
        "50fd68038d77467a827a78abca98b8f7": {
          "model_module": "@jupyter-widgets/base",
          "model_name": "LayoutModel",
          "state": {
            "_view_name": "LayoutView",
            "grid_template_rows": null,
            "right": null,
            "justify_content": null,
            "_view_module": "@jupyter-widgets/base",
            "overflow": null,
            "_model_module_version": "1.2.0",
            "_view_count": null,
            "flex_flow": null,
            "width": null,
            "min_width": null,
            "border": null,
            "align_items": null,
            "bottom": null,
            "_model_module": "@jupyter-widgets/base",
            "top": null,
            "grid_column": null,
            "overflow_y": null,
            "overflow_x": null,
            "grid_auto_flow": null,
            "grid_area": null,
            "grid_template_columns": null,
            "flex": null,
            "_model_name": "LayoutModel",
            "justify_items": null,
            "grid_row": null,
            "max_height": null,
            "align_content": null,
            "visibility": null,
            "align_self": null,
            "height": null,
            "min_height": null,
            "padding": null,
            "grid_auto_rows": null,
            "grid_gap": null,
            "max_width": null,
            "order": null,
            "_view_module_version": "1.2.0",
            "grid_template_areas": null,
            "object_position": null,
            "object_fit": null,
            "grid_auto_columns": null,
            "margin": null,
            "display": null,
            "left": null
          }
        },
        "9f368e6637d74828beafb006ba64732f": {
          "model_module": "@jupyter-widgets/controls",
          "model_name": "DescriptionStyleModel",
          "state": {
            "_view_name": "StyleView",
            "_model_name": "DescriptionStyleModel",
            "description_width": "",
            "_view_module": "@jupyter-widgets/base",
            "_model_module_version": "1.5.0",
            "_view_count": null,
            "_view_module_version": "1.2.0",
            "_model_module": "@jupyter-widgets/controls"
          }
        },
        "b6aa564ff85e4f0188c4e6b950c2b581": {
          "model_module": "@jupyter-widgets/base",
          "model_name": "LayoutModel",
          "state": {
            "_view_name": "LayoutView",
            "grid_template_rows": null,
            "right": null,
            "justify_content": null,
            "_view_module": "@jupyter-widgets/base",
            "overflow": null,
            "_model_module_version": "1.2.0",
            "_view_count": null,
            "flex_flow": null,
            "width": null,
            "min_width": null,
            "border": null,
            "align_items": null,
            "bottom": null,
            "_model_module": "@jupyter-widgets/base",
            "top": null,
            "grid_column": null,
            "overflow_y": null,
            "overflow_x": null,
            "grid_auto_flow": null,
            "grid_area": null,
            "grid_template_columns": null,
            "flex": null,
            "_model_name": "LayoutModel",
            "justify_items": null,
            "grid_row": null,
            "max_height": null,
            "align_content": null,
            "visibility": null,
            "align_self": null,
            "height": null,
            "min_height": null,
            "padding": null,
            "grid_auto_rows": null,
            "grid_gap": null,
            "max_width": null,
            "order": null,
            "_view_module_version": "1.2.0",
            "grid_template_areas": null,
            "object_position": null,
            "object_fit": null,
            "grid_auto_columns": null,
            "margin": null,
            "display": null,
            "left": null
          }
        },
        "9095128d60b04a748a3d4c93ea255356": {
          "model_module": "@jupyter-widgets/controls",
          "model_name": "HBoxModel",
          "state": {
            "_view_name": "HBoxView",
            "_dom_classes": [],
            "_model_name": "HBoxModel",
            "_view_module": "@jupyter-widgets/controls",
            "_model_module_version": "1.5.0",
            "_view_count": null,
            "_view_module_version": "1.5.0",
            "box_style": "",
            "layout": "IPY_MODEL_7cbf12854a094a49b83f3eb22f0e1e76",
            "_model_module": "@jupyter-widgets/controls",
            "children": [
              "IPY_MODEL_b5e0df42472d444f9af0690fa3ddd389",
              "IPY_MODEL_2aa4e7a8e7c74e839febc955e9d72401"
            ]
          }
        },
        "7cbf12854a094a49b83f3eb22f0e1e76": {
          "model_module": "@jupyter-widgets/base",
          "model_name": "LayoutModel",
          "state": {
            "_view_name": "LayoutView",
            "grid_template_rows": null,
            "right": null,
            "justify_content": null,
            "_view_module": "@jupyter-widgets/base",
            "overflow": null,
            "_model_module_version": "1.2.0",
            "_view_count": null,
            "flex_flow": null,
            "width": null,
            "min_width": null,
            "border": null,
            "align_items": null,
            "bottom": null,
            "_model_module": "@jupyter-widgets/base",
            "top": null,
            "grid_column": null,
            "overflow_y": null,
            "overflow_x": null,
            "grid_auto_flow": null,
            "grid_area": null,
            "grid_template_columns": null,
            "flex": null,
            "_model_name": "LayoutModel",
            "justify_items": null,
            "grid_row": null,
            "max_height": null,
            "align_content": null,
            "visibility": null,
            "align_self": null,
            "height": null,
            "min_height": null,
            "padding": null,
            "grid_auto_rows": null,
            "grid_gap": null,
            "max_width": null,
            "order": null,
            "_view_module_version": "1.2.0",
            "grid_template_areas": null,
            "object_position": null,
            "object_fit": null,
            "grid_auto_columns": null,
            "margin": null,
            "display": null,
            "left": null
          }
        },
        "b5e0df42472d444f9af0690fa3ddd389": {
          "model_module": "@jupyter-widgets/controls",
          "model_name": "FloatProgressModel",
          "state": {
            "_view_name": "ProgressView",
            "style": "IPY_MODEL_bf397f045d114288b55009ad6599d02f",
            "_dom_classes": [],
            "description": "Downloading: 100%",
            "_model_name": "FloatProgressModel",
            "bar_style": "success",
            "max": 466062,
            "_view_module": "@jupyter-widgets/controls",
            "_model_module_version": "1.5.0",
            "value": 466062,
            "_view_count": null,
            "_view_module_version": "1.5.0",
            "orientation": "horizontal",
            "min": 0,
            "description_tooltip": null,
            "_model_module": "@jupyter-widgets/controls",
            "layout": "IPY_MODEL_f6ab6b8269f4485b816ef6be1435da0b"
          }
        },
        "2aa4e7a8e7c74e839febc955e9d72401": {
          "model_module": "@jupyter-widgets/controls",
          "model_name": "HTMLModel",
          "state": {
            "_view_name": "HTMLView",
            "style": "IPY_MODEL_39de53f5d3384bc99b66ead9bedf4b92",
            "_dom_classes": [],
            "description": "",
            "_model_name": "HTMLModel",
            "placeholder": "​",
            "_view_module": "@jupyter-widgets/controls",
            "_model_module_version": "1.5.0",
            "value": " 466k/466k [00:00&lt;00:00, 2.64MB/s]",
            "_view_count": null,
            "_view_module_version": "1.5.0",
            "description_tooltip": null,
            "_model_module": "@jupyter-widgets/controls",
            "layout": "IPY_MODEL_9fafbff23c5541af9588ebfa2031b5eb"
          }
        },
        "bf397f045d114288b55009ad6599d02f": {
          "model_module": "@jupyter-widgets/controls",
          "model_name": "ProgressStyleModel",
          "state": {
            "_view_name": "StyleView",
            "_model_name": "ProgressStyleModel",
            "description_width": "initial",
            "_view_module": "@jupyter-widgets/base",
            "_model_module_version": "1.5.0",
            "_view_count": null,
            "_view_module_version": "1.2.0",
            "bar_color": null,
            "_model_module": "@jupyter-widgets/controls"
          }
        },
        "f6ab6b8269f4485b816ef6be1435da0b": {
          "model_module": "@jupyter-widgets/base",
          "model_name": "LayoutModel",
          "state": {
            "_view_name": "LayoutView",
            "grid_template_rows": null,
            "right": null,
            "justify_content": null,
            "_view_module": "@jupyter-widgets/base",
            "overflow": null,
            "_model_module_version": "1.2.0",
            "_view_count": null,
            "flex_flow": null,
            "width": null,
            "min_width": null,
            "border": null,
            "align_items": null,
            "bottom": null,
            "_model_module": "@jupyter-widgets/base",
            "top": null,
            "grid_column": null,
            "overflow_y": null,
            "overflow_x": null,
            "grid_auto_flow": null,
            "grid_area": null,
            "grid_template_columns": null,
            "flex": null,
            "_model_name": "LayoutModel",
            "justify_items": null,
            "grid_row": null,
            "max_height": null,
            "align_content": null,
            "visibility": null,
            "align_self": null,
            "height": null,
            "min_height": null,
            "padding": null,
            "grid_auto_rows": null,
            "grid_gap": null,
            "max_width": null,
            "order": null,
            "_view_module_version": "1.2.0",
            "grid_template_areas": null,
            "object_position": null,
            "object_fit": null,
            "grid_auto_columns": null,
            "margin": null,
            "display": null,
            "left": null
          }
        },
        "39de53f5d3384bc99b66ead9bedf4b92": {
          "model_module": "@jupyter-widgets/controls",
          "model_name": "DescriptionStyleModel",
          "state": {
            "_view_name": "StyleView",
            "_model_name": "DescriptionStyleModel",
            "description_width": "",
            "_view_module": "@jupyter-widgets/base",
            "_model_module_version": "1.5.0",
            "_view_count": null,
            "_view_module_version": "1.2.0",
            "_model_module": "@jupyter-widgets/controls"
          }
        },
        "9fafbff23c5541af9588ebfa2031b5eb": {
          "model_module": "@jupyter-widgets/base",
          "model_name": "LayoutModel",
          "state": {
            "_view_name": "LayoutView",
            "grid_template_rows": null,
            "right": null,
            "justify_content": null,
            "_view_module": "@jupyter-widgets/base",
            "overflow": null,
            "_model_module_version": "1.2.0",
            "_view_count": null,
            "flex_flow": null,
            "width": null,
            "min_width": null,
            "border": null,
            "align_items": null,
            "bottom": null,
            "_model_module": "@jupyter-widgets/base",
            "top": null,
            "grid_column": null,
            "overflow_y": null,
            "overflow_x": null,
            "grid_auto_flow": null,
            "grid_area": null,
            "grid_template_columns": null,
            "flex": null,
            "_model_name": "LayoutModel",
            "justify_items": null,
            "grid_row": null,
            "max_height": null,
            "align_content": null,
            "visibility": null,
            "align_self": null,
            "height": null,
            "min_height": null,
            "padding": null,
            "grid_auto_rows": null,
            "grid_gap": null,
            "max_width": null,
            "order": null,
            "_view_module_version": "1.2.0",
            "grid_template_areas": null,
            "object_position": null,
            "object_fit": null,
            "grid_auto_columns": null,
            "margin": null,
            "display": null,
            "left": null
          }
        },
        "dfc30a21922547d2a99304bed3c86c3a": {
          "model_module": "@jupyter-widgets/controls",
          "model_name": "HBoxModel",
          "state": {
            "_view_name": "HBoxView",
            "_dom_classes": [],
            "_model_name": "HBoxModel",
            "_view_module": "@jupyter-widgets/controls",
            "_model_module_version": "1.5.0",
            "_view_count": null,
            "_view_module_version": "1.5.0",
            "box_style": "",
            "layout": "IPY_MODEL_433b0b6596d147409b504dee533487f1",
            "_model_module": "@jupyter-widgets/controls",
            "children": [
              "IPY_MODEL_ea742477795d40399356014dc53d2e4c",
              "IPY_MODEL_0f85d73a976442669925a92344c5c981"
            ]
          }
        },
        "433b0b6596d147409b504dee533487f1": {
          "model_module": "@jupyter-widgets/base",
          "model_name": "LayoutModel",
          "state": {
            "_view_name": "LayoutView",
            "grid_template_rows": null,
            "right": null,
            "justify_content": null,
            "_view_module": "@jupyter-widgets/base",
            "overflow": null,
            "_model_module_version": "1.2.0",
            "_view_count": null,
            "flex_flow": null,
            "width": null,
            "min_width": null,
            "border": null,
            "align_items": null,
            "bottom": null,
            "_model_module": "@jupyter-widgets/base",
            "top": null,
            "grid_column": null,
            "overflow_y": null,
            "overflow_x": null,
            "grid_auto_flow": null,
            "grid_area": null,
            "grid_template_columns": null,
            "flex": null,
            "_model_name": "LayoutModel",
            "justify_items": null,
            "grid_row": null,
            "max_height": null,
            "align_content": null,
            "visibility": null,
            "align_self": null,
            "height": null,
            "min_height": null,
            "padding": null,
            "grid_auto_rows": null,
            "grid_gap": null,
            "max_width": null,
            "order": null,
            "_view_module_version": "1.2.0",
            "grid_template_areas": null,
            "object_position": null,
            "object_fit": null,
            "grid_auto_columns": null,
            "margin": null,
            "display": null,
            "left": null
          }
        },
        "ea742477795d40399356014dc53d2e4c": {
          "model_module": "@jupyter-widgets/controls",
          "model_name": "FloatProgressModel",
          "state": {
            "_view_name": "ProgressView",
            "style": "IPY_MODEL_5466323f7a00477d84f5a44a815b5ddc",
            "_dom_classes": [],
            "description": "Downloading: 100%",
            "_model_name": "FloatProgressModel",
            "bar_style": "success",
            "max": 570,
            "_view_module": "@jupyter-widgets/controls",
            "_model_module_version": "1.5.0",
            "value": 570,
            "_view_count": null,
            "_view_module_version": "1.5.0",
            "orientation": "horizontal",
            "min": 0,
            "description_tooltip": null,
            "_model_module": "@jupyter-widgets/controls",
            "layout": "IPY_MODEL_fb0c6b6130484b24afc1720d3b29d5d7"
          }
        },
        "0f85d73a976442669925a92344c5c981": {
          "model_module": "@jupyter-widgets/controls",
          "model_name": "HTMLModel",
          "state": {
            "_view_name": "HTMLView",
            "style": "IPY_MODEL_8b6e9bcd78ba4bf19323957cf3b73196",
            "_dom_classes": [],
            "description": "",
            "_model_name": "HTMLModel",
            "placeholder": "​",
            "_view_module": "@jupyter-widgets/controls",
            "_model_module_version": "1.5.0",
            "value": " 570/570 [00:49&lt;00:00, 11.5B/s]",
            "_view_count": null,
            "_view_module_version": "1.5.0",
            "description_tooltip": null,
            "_model_module": "@jupyter-widgets/controls",
            "layout": "IPY_MODEL_3f7ae64412ff400cb40a06a23136bad1"
          }
        },
        "5466323f7a00477d84f5a44a815b5ddc": {
          "model_module": "@jupyter-widgets/controls",
          "model_name": "ProgressStyleModel",
          "state": {
            "_view_name": "StyleView",
            "_model_name": "ProgressStyleModel",
            "description_width": "initial",
            "_view_module": "@jupyter-widgets/base",
            "_model_module_version": "1.5.0",
            "_view_count": null,
            "_view_module_version": "1.2.0",
            "bar_color": null,
            "_model_module": "@jupyter-widgets/controls"
          }
        },
        "fb0c6b6130484b24afc1720d3b29d5d7": {
          "model_module": "@jupyter-widgets/base",
          "model_name": "LayoutModel",
          "state": {
            "_view_name": "LayoutView",
            "grid_template_rows": null,
            "right": null,
            "justify_content": null,
            "_view_module": "@jupyter-widgets/base",
            "overflow": null,
            "_model_module_version": "1.2.0",
            "_view_count": null,
            "flex_flow": null,
            "width": null,
            "min_width": null,
            "border": null,
            "align_items": null,
            "bottom": null,
            "_model_module": "@jupyter-widgets/base",
            "top": null,
            "grid_column": null,
            "overflow_y": null,
            "overflow_x": null,
            "grid_auto_flow": null,
            "grid_area": null,
            "grid_template_columns": null,
            "flex": null,
            "_model_name": "LayoutModel",
            "justify_items": null,
            "grid_row": null,
            "max_height": null,
            "align_content": null,
            "visibility": null,
            "align_self": null,
            "height": null,
            "min_height": null,
            "padding": null,
            "grid_auto_rows": null,
            "grid_gap": null,
            "max_width": null,
            "order": null,
            "_view_module_version": "1.2.0",
            "grid_template_areas": null,
            "object_position": null,
            "object_fit": null,
            "grid_auto_columns": null,
            "margin": null,
            "display": null,
            "left": null
          }
        },
        "8b6e9bcd78ba4bf19323957cf3b73196": {
          "model_module": "@jupyter-widgets/controls",
          "model_name": "DescriptionStyleModel",
          "state": {
            "_view_name": "StyleView",
            "_model_name": "DescriptionStyleModel",
            "description_width": "",
            "_view_module": "@jupyter-widgets/base",
            "_model_module_version": "1.5.0",
            "_view_count": null,
            "_view_module_version": "1.2.0",
            "_model_module": "@jupyter-widgets/controls"
          }
        },
        "3f7ae64412ff400cb40a06a23136bad1": {
          "model_module": "@jupyter-widgets/base",
          "model_name": "LayoutModel",
          "state": {
            "_view_name": "LayoutView",
            "grid_template_rows": null,
            "right": null,
            "justify_content": null,
            "_view_module": "@jupyter-widgets/base",
            "overflow": null,
            "_model_module_version": "1.2.0",
            "_view_count": null,
            "flex_flow": null,
            "width": null,
            "min_width": null,
            "border": null,
            "align_items": null,
            "bottom": null,
            "_model_module": "@jupyter-widgets/base",
            "top": null,
            "grid_column": null,
            "overflow_y": null,
            "overflow_x": null,
            "grid_auto_flow": null,
            "grid_area": null,
            "grid_template_columns": null,
            "flex": null,
            "_model_name": "LayoutModel",
            "justify_items": null,
            "grid_row": null,
            "max_height": null,
            "align_content": null,
            "visibility": null,
            "align_self": null,
            "height": null,
            "min_height": null,
            "padding": null,
            "grid_auto_rows": null,
            "grid_gap": null,
            "max_width": null,
            "order": null,
            "_view_module_version": "1.2.0",
            "grid_template_areas": null,
            "object_position": null,
            "object_fit": null,
            "grid_auto_columns": null,
            "margin": null,
            "display": null,
            "left": null
          }
        },
        "db33ae578ed841fdbdd500549d44cd6f": {
          "model_module": "@jupyter-widgets/controls",
          "model_name": "HBoxModel",
          "state": {
            "_view_name": "HBoxView",
            "_dom_classes": [],
            "_model_name": "HBoxModel",
            "_view_module": "@jupyter-widgets/controls",
            "_model_module_version": "1.5.0",
            "_view_count": null,
            "_view_module_version": "1.5.0",
            "box_style": "",
            "layout": "IPY_MODEL_9f236ff34a6142f9bcb02845a579a125",
            "_model_module": "@jupyter-widgets/controls",
            "children": [
              "IPY_MODEL_575e8e3a50774768b5e4e7f791dca455",
              "IPY_MODEL_81214f06223a48a880f3a557b36cb2da"
            ]
          }
        },
        "9f236ff34a6142f9bcb02845a579a125": {
          "model_module": "@jupyter-widgets/base",
          "model_name": "LayoutModel",
          "state": {
            "_view_name": "LayoutView",
            "grid_template_rows": null,
            "right": null,
            "justify_content": null,
            "_view_module": "@jupyter-widgets/base",
            "overflow": null,
            "_model_module_version": "1.2.0",
            "_view_count": null,
            "flex_flow": null,
            "width": null,
            "min_width": null,
            "border": null,
            "align_items": null,
            "bottom": null,
            "_model_module": "@jupyter-widgets/base",
            "top": null,
            "grid_column": null,
            "overflow_y": null,
            "overflow_x": null,
            "grid_auto_flow": null,
            "grid_area": null,
            "grid_template_columns": null,
            "flex": null,
            "_model_name": "LayoutModel",
            "justify_items": null,
            "grid_row": null,
            "max_height": null,
            "align_content": null,
            "visibility": null,
            "align_self": null,
            "height": null,
            "min_height": null,
            "padding": null,
            "grid_auto_rows": null,
            "grid_gap": null,
            "max_width": null,
            "order": null,
            "_view_module_version": "1.2.0",
            "grid_template_areas": null,
            "object_position": null,
            "object_fit": null,
            "grid_auto_columns": null,
            "margin": null,
            "display": null,
            "left": null
          }
        },
        "575e8e3a50774768b5e4e7f791dca455": {
          "model_module": "@jupyter-widgets/controls",
          "model_name": "FloatProgressModel",
          "state": {
            "_view_name": "ProgressView",
            "style": "IPY_MODEL_cbb725fcd8cd427da89971f9ea770cc7",
            "_dom_classes": [],
            "description": "Downloading: 100%",
            "_model_name": "FloatProgressModel",
            "bar_style": "success",
            "max": 440473133,
            "_view_module": "@jupyter-widgets/controls",
            "_model_module_version": "1.5.0",
            "value": 440473133,
            "_view_count": null,
            "_view_module_version": "1.5.0",
            "orientation": "horizontal",
            "min": 0,
            "description_tooltip": null,
            "_model_module": "@jupyter-widgets/controls",
            "layout": "IPY_MODEL_1edfa879ce2f4d6480a5bc73dcc44584"
          }
        },
        "81214f06223a48a880f3a557b36cb2da": {
          "model_module": "@jupyter-widgets/controls",
          "model_name": "HTMLModel",
          "state": {
            "_view_name": "HTMLView",
            "style": "IPY_MODEL_f9aea08fffa44bd999ccdd735249169e",
            "_dom_classes": [],
            "description": "",
            "_model_name": "HTMLModel",
            "placeholder": "​",
            "_view_module": "@jupyter-widgets/controls",
            "_model_module_version": "1.5.0",
            "value": " 440M/440M [00:14&lt;00:00, 30.3MB/s]",
            "_view_count": null,
            "_view_module_version": "1.5.0",
            "description_tooltip": null,
            "_model_module": "@jupyter-widgets/controls",
            "layout": "IPY_MODEL_47ca18879f6f4009a4922df48f22181f"
          }
        },
        "cbb725fcd8cd427da89971f9ea770cc7": {
          "model_module": "@jupyter-widgets/controls",
          "model_name": "ProgressStyleModel",
          "state": {
            "_view_name": "StyleView",
            "_model_name": "ProgressStyleModel",
            "description_width": "initial",
            "_view_module": "@jupyter-widgets/base",
            "_model_module_version": "1.5.0",
            "_view_count": null,
            "_view_module_version": "1.2.0",
            "bar_color": null,
            "_model_module": "@jupyter-widgets/controls"
          }
        },
        "1edfa879ce2f4d6480a5bc73dcc44584": {
          "model_module": "@jupyter-widgets/base",
          "model_name": "LayoutModel",
          "state": {
            "_view_name": "LayoutView",
            "grid_template_rows": null,
            "right": null,
            "justify_content": null,
            "_view_module": "@jupyter-widgets/base",
            "overflow": null,
            "_model_module_version": "1.2.0",
            "_view_count": null,
            "flex_flow": null,
            "width": null,
            "min_width": null,
            "border": null,
            "align_items": null,
            "bottom": null,
            "_model_module": "@jupyter-widgets/base",
            "top": null,
            "grid_column": null,
            "overflow_y": null,
            "overflow_x": null,
            "grid_auto_flow": null,
            "grid_area": null,
            "grid_template_columns": null,
            "flex": null,
            "_model_name": "LayoutModel",
            "justify_items": null,
            "grid_row": null,
            "max_height": null,
            "align_content": null,
            "visibility": null,
            "align_self": null,
            "height": null,
            "min_height": null,
            "padding": null,
            "grid_auto_rows": null,
            "grid_gap": null,
            "max_width": null,
            "order": null,
            "_view_module_version": "1.2.0",
            "grid_template_areas": null,
            "object_position": null,
            "object_fit": null,
            "grid_auto_columns": null,
            "margin": null,
            "display": null,
            "left": null
          }
        },
        "f9aea08fffa44bd999ccdd735249169e": {
          "model_module": "@jupyter-widgets/controls",
          "model_name": "DescriptionStyleModel",
          "state": {
            "_view_name": "StyleView",
            "_model_name": "DescriptionStyleModel",
            "description_width": "",
            "_view_module": "@jupyter-widgets/base",
            "_model_module_version": "1.5.0",
            "_view_count": null,
            "_view_module_version": "1.2.0",
            "_model_module": "@jupyter-widgets/controls"
          }
        },
        "47ca18879f6f4009a4922df48f22181f": {
          "model_module": "@jupyter-widgets/base",
          "model_name": "LayoutModel",
          "state": {
            "_view_name": "LayoutView",
            "grid_template_rows": null,
            "right": null,
            "justify_content": null,
            "_view_module": "@jupyter-widgets/base",
            "overflow": null,
            "_model_module_version": "1.2.0",
            "_view_count": null,
            "flex_flow": null,
            "width": null,
            "min_width": null,
            "border": null,
            "align_items": null,
            "bottom": null,
            "_model_module": "@jupyter-widgets/base",
            "top": null,
            "grid_column": null,
            "overflow_y": null,
            "overflow_x": null,
            "grid_auto_flow": null,
            "grid_area": null,
            "grid_template_columns": null,
            "flex": null,
            "_model_name": "LayoutModel",
            "justify_items": null,
            "grid_row": null,
            "max_height": null,
            "align_content": null,
            "visibility": null,
            "align_self": null,
            "height": null,
            "min_height": null,
            "padding": null,
            "grid_auto_rows": null,
            "grid_gap": null,
            "max_width": null,
            "order": null,
            "_view_module_version": "1.2.0",
            "grid_template_areas": null,
            "object_position": null,
            "object_fit": null,
            "grid_auto_columns": null,
            "margin": null,
            "display": null,
            "left": null
          }
        }
      }
    }
  },
  "cells": [
    {
      "cell_type": "code",
      "metadata": {
        "id": "suV7_KXlaoHQ",
        "colab": {
          "base_uri": "https://localhost:8080/"
        },
        "outputId": "68acdbb8-034d-41bb-871b-bb8653ba53c0"
      },
      "source": [
        "from google.colab import drive\n",
        "drive.mount('/content/drive')"
      ],
      "execution_count": null,
      "outputs": [
        {
          "output_type": "stream",
          "text": [
            "Drive already mounted at /content/drive; to attempt to forcibly remount, call drive.mount(\"/content/drive\", force_remount=True).\n"
          ],
          "name": "stdout"
        }
      ]
    },
    {
      "cell_type": "code",
      "metadata": {
        "id": "ReqX_NduXp2x",
        "colab": {
          "base_uri": "https://localhost:8080/"
        },
        "outputId": "aee7b466-dc9c-416b-f13c-5dd339ba656c"
      },
      "source": [
        "!pip install torch torchvision transformers"
      ],
      "execution_count": null,
      "outputs": [
        {
          "output_type": "stream",
          "text": [
            "Requirement already satisfied: torch in /usr/local/lib/python3.7/dist-packages (1.8.1+cu101)\n",
            "Requirement already satisfied: torchvision in /usr/local/lib/python3.7/dist-packages (0.9.1+cu101)\n",
            "Collecting transformers\n",
            "\u001b[?25l  Downloading https://files.pythonhosted.org/packages/d8/b2/57495b5309f09fa501866e225c84532d1fd89536ea62406b2181933fb418/transformers-4.5.1-py3-none-any.whl (2.1MB)\n",
            "\u001b[K     |████████████████████████████████| 2.1MB 23.9MB/s \n",
            "\u001b[?25hRequirement already satisfied: numpy in /usr/local/lib/python3.7/dist-packages (from torch) (1.19.5)\n",
            "Requirement already satisfied: typing-extensions in /usr/local/lib/python3.7/dist-packages (from torch) (3.7.4.3)\n",
            "Requirement already satisfied: pillow>=4.1.1 in /usr/local/lib/python3.7/dist-packages (from torchvision) (7.1.2)\n",
            "Requirement already satisfied: regex!=2019.12.17 in /usr/local/lib/python3.7/dist-packages (from transformers) (2019.12.20)\n",
            "Requirement already satisfied: packaging in /usr/local/lib/python3.7/dist-packages (from transformers) (20.9)\n",
            "Requirement already satisfied: requests in /usr/local/lib/python3.7/dist-packages (from transformers) (2.23.0)\n",
            "Collecting sacremoses\n",
            "\u001b[?25l  Downloading https://files.pythonhosted.org/packages/75/ee/67241dc87f266093c533a2d4d3d69438e57d7a90abb216fa076e7d475d4a/sacremoses-0.0.45-py3-none-any.whl (895kB)\n",
            "\u001b[K     |████████████████████████████████| 901kB 28.0MB/s \n",
            "\u001b[?25hRequirement already satisfied: tqdm>=4.27 in /usr/local/lib/python3.7/dist-packages (from transformers) (4.41.1)\n",
            "Requirement already satisfied: importlib-metadata; python_version < \"3.8\" in /usr/local/lib/python3.7/dist-packages (from transformers) (3.10.1)\n",
            "Requirement already satisfied: filelock in /usr/local/lib/python3.7/dist-packages (from transformers) (3.0.12)\n",
            "Collecting tokenizers<0.11,>=0.10.1\n",
            "\u001b[?25l  Downloading https://files.pythonhosted.org/packages/ae/04/5b870f26a858552025a62f1649c20d29d2672c02ff3c3fb4c688ca46467a/tokenizers-0.10.2-cp37-cp37m-manylinux2010_x86_64.whl (3.3MB)\n",
            "\u001b[K     |████████████████████████████████| 3.3MB 43.4MB/s \n",
            "\u001b[?25hRequirement already satisfied: pyparsing>=2.0.2 in /usr/local/lib/python3.7/dist-packages (from packaging->transformers) (2.4.7)\n",
            "Requirement already satisfied: chardet<4,>=3.0.2 in /usr/local/lib/python3.7/dist-packages (from requests->transformers) (3.0.4)\n",
            "Requirement already satisfied: certifi>=2017.4.17 in /usr/local/lib/python3.7/dist-packages (from requests->transformers) (2020.12.5)\n",
            "Requirement already satisfied: urllib3!=1.25.0,!=1.25.1,<1.26,>=1.21.1 in /usr/local/lib/python3.7/dist-packages (from requests->transformers) (1.24.3)\n",
            "Requirement already satisfied: idna<3,>=2.5 in /usr/local/lib/python3.7/dist-packages (from requests->transformers) (2.10)\n",
            "Requirement already satisfied: click in /usr/local/lib/python3.7/dist-packages (from sacremoses->transformers) (7.1.2)\n",
            "Requirement already satisfied: joblib in /usr/local/lib/python3.7/dist-packages (from sacremoses->transformers) (1.0.1)\n",
            "Requirement already satisfied: six in /usr/local/lib/python3.7/dist-packages (from sacremoses->transformers) (1.15.0)\n",
            "Requirement already satisfied: zipp>=0.5 in /usr/local/lib/python3.7/dist-packages (from importlib-metadata; python_version < \"3.8\"->transformers) (3.4.1)\n",
            "Installing collected packages: sacremoses, tokenizers, transformers\n",
            "Successfully installed sacremoses-0.0.45 tokenizers-0.10.2 transformers-4.5.1\n"
          ],
          "name": "stdout"
        }
      ]
    },
    {
      "cell_type": "code",
      "metadata": {
        "id": "RaKDqvd_W3TY"
      },
      "source": [
        "import json\n",
        "import string\n",
        "import pandas as pd\n",
        "import numpy as np\n",
        "import re\n",
        "import nltk\n",
        "from nltk.corpus import stopwords\n",
        "# nltk.download('stopwords')\n",
        "# nltk.download('punkt')\n",
        "# nltk.download('wordnet')\n",
        "from nltk.tokenize import word_tokenize\n",
        "from keras.preprocessing.text import Tokenizer\n",
        "from sklearn.metrics import precision_recall_fscore_support\n",
        "import time\n",
        "from datetime import datetime\n",
        "from collections import Counter\n",
        "import torch\n",
        "import torch.nn as nn\n",
        "import torch.optim as optim\n",
        "from torch.utils.data import Dataset\n",
        "from torch.utils.data import DataLoader\n",
        "from transformers import BertModel\n",
        "from transformers import BertTokenizer\n",
        "from transformers import AdamW\n",
        "from sklearn.metrics import precision_recall_fscore_support\n",
        "from sklearn.metrics import confusion_matrix"
      ],
      "execution_count": null,
      "outputs": []
    },
    {
      "cell_type": "markdown",
      "metadata": {
        "id": "VHKC4l_SseA3"
      },
      "source": [
        "### loading the data"
      ]
    },
    {
      "cell_type": "code",
      "metadata": {
        "id": "0PHpg_nmXRna"
      },
      "source": [
        "path = 'drive/MyDrive/Colab/'\n",
        "covid_data = [json.loads(event) for event in open(path+'project-data/covid.data.jsonl', \"r\").readlines()]"
      ],
      "execution_count": null,
      "outputs": []
    },
    {
      "cell_type": "markdown",
      "metadata": {
        "id": "iqYtL1oXsgO2"
      },
      "source": [
        "### run the best task 1 model on covid dataset"
      ]
    },
    {
      "cell_type": "code",
      "metadata": {
        "id": "6V3rOoUQXYAg"
      },
      "source": [
        "def to_date(date_str):\n",
        "    return datetime.strftime(datetime.strptime(date_str,'%a %b %d %H:%M:%S +0000 %Y'), '%Y-%m-%d %H:%M:%S')\n",
        "\n",
        "covid_data_sort = [sorted(event, key=lambda x : to_date(x[\"created_at\"])) for event in covid_data]"
      ],
      "execution_count": null,
      "outputs": []
    },
    {
      "cell_type": "code",
      "metadata": {
        "id": "SNUdcA0LX06u"
      },
      "source": [
        "# remove url\n",
        "def remove_urls(vTEXT):\n",
        "    vTEXT = re.sub(r'(https|http)?:\\/\\/(\\w|\\.|\\/|\\?|\\=|\\&|\\%)*\\b', '', vTEXT, flags=re.MULTILINE)\n",
        "    return(vTEXT)\n",
        "\n",
        "def remove_ats(vTEXT):\n",
        "    vTEXT = re.sub(r'@[^\\s]* ', '', vTEXT, flags=re.MULTILINE)\n",
        "    return(vTEXT)\n",
        "\n",
        "def extract_info(data, info=\"text\"):\n",
        "    res = []\n",
        "    for i in range(len(data)):\n",
        "        event = data[i]\n",
        "        event_info = []\n",
        "        for tw in event:\n",
        "#             event_info.append(remove_ats(tw[info]))\n",
        "            event_info.append(remove_ats(remove_urls(tw[info])))\n",
        "        res.append(event_info)\n",
        "    return res\n",
        "\n",
        "covid_sents = extract_info(covid_data_sort)     # {event}  where event={source,apply1,apply2,...}"
      ],
      "execution_count": null,
      "outputs": []
    },
    {
      "cell_type": "code",
      "metadata": {
        "id": "gocu5eZuX2K7"
      },
      "source": [
        "def combine_replies(replies):\n",
        "    res = \"\"\n",
        "    for r in replies:\n",
        "        res += r\n",
        "    return res\n",
        "\n",
        "covid_all = [[event[0], combine_replies(event[1:])] for event in covid_sents]"
      ],
      "execution_count": null,
      "outputs": []
    },
    {
      "cell_type": "code",
      "metadata": {
        "id": "hqMAZelaX9s5"
      },
      "source": [
        "# define the dataset class\n",
        "class TwitrerDataset(Dataset):\n",
        "    def __init__(self, X, source_maxlen, reply_maxlen):\n",
        "        self.tokenizer = BertTokenizer.from_pretrained('bert-base-uncased')\n",
        "        self.source_maxlen = source_maxlen\n",
        "        self.reply_maxlen = reply_maxlen\n",
        "        self.X = X\n",
        "        \n",
        "    def __len__(self):\n",
        "        return len(self.X)\n",
        "\n",
        "    def __getitem__(self, index):\n",
        "        # selecting the sentence at the specific index\n",
        "        source, replies = self.X[index]\n",
        "\n",
        "        # preprocessing the text to be suitable for BERT\n",
        "        s_tokens = self.tokenizer.tokenize(source)\n",
        "        s_tokens = ['[CLS]'] + s_tokens + ['[SEP']       # insert CLS and SEP token\n",
        "        if len(s_tokens) < self.source_maxlen:                # keep the same length of each sentence\n",
        "            s_tokens = s_tokens + ['[PAD]' for _ in range(self.source_maxlen-len(s_tokens))]\n",
        "        else:\n",
        "            s_tokens = s_tokens[:self.source_maxlen-1] + ['SEP']\n",
        "\n",
        "        r_tokens = self.tokenizer.tokenize(replies)\n",
        "        r_tokens = r_tokens + ['[SEP']\n",
        "        if len(r_tokens) < self.reply_maxlen:                # keep the same length of each sentence\n",
        "            r_tokens = r_tokens + ['[PAD]' for _ in range(self.reply_maxlen-len(r_tokens))]\n",
        "        else:\n",
        "            r_tokens = r_tokens[:self.reply_maxlen-1] + ['SEP']\n",
        "\n",
        "        tokens_ids = self.tokenizer.convert_tokens_to_ids(s_tokens) + self.tokenizer.convert_tokens_to_ids(r_tokens) # obtaining the indices of tokens in vocab\n",
        "        tokens_ids_tensor = torch.tensor(tokens_ids)   \n",
        "\n",
        "        attn_mask = (tokens_ids_tensor != 0).long()        # attention mask (identity where is padded)\n",
        "\n",
        "        token_type_ids = torch.tensor([0 for _ in range(source_maxlen)]+[1 for _ in range(reply_maxlen)])\n",
        "\n",
        "        return tokens_ids_tensor, attn_mask, token_type_ids     "
      ],
      "execution_count": null,
      "outputs": []
    },
    {
      "cell_type": "code",
      "metadata": {
        "colab": {
          "base_uri": "https://localhost:8080/",
          "height": 180,
          "referenced_widgets": [
            "51e406d376a24b3f9a546519d0b88ee2",
            "206c3696cf2b4811ab441743db33dd7d",
            "0f7c0fda42494b42bf372f45e2eaf4e0",
            "fdf4d4b7663f4338bb243ac61ddcbbf8",
            "3809563d87644fbbbda84fc20e1c3bc9",
            "a66b805be9204796ae73a2fccd1b73a6",
            "4dd7df35176043fc8f7b4ecc40fdc700",
            "fc5945c361864c60a5a8c6cf07a55124",
            "0e1824659b0047b3973df041c1c4fa61",
            "617e3506314d46eaadb69b8d0805a38c",
            "797cd9c6667e4e86b148060350eebffe",
            "fa642ce9802d452b842353ecafb545ea",
            "9c116b08460943ed97829b1040de77b3",
            "50fd68038d77467a827a78abca98b8f7",
            "9f368e6637d74828beafb006ba64732f",
            "b6aa564ff85e4f0188c4e6b950c2b581",
            "9095128d60b04a748a3d4c93ea255356",
            "7cbf12854a094a49b83f3eb22f0e1e76",
            "b5e0df42472d444f9af0690fa3ddd389",
            "2aa4e7a8e7c74e839febc955e9d72401",
            "bf397f045d114288b55009ad6599d02f",
            "f6ab6b8269f4485b816ef6be1435da0b",
            "39de53f5d3384bc99b66ead9bedf4b92",
            "9fafbff23c5541af9588ebfa2031b5eb"
          ]
        },
        "id": "BO2KpLD2X-lW",
        "outputId": "6e9c038b-3742-4012-d3a5-bfe95fecca59"
      },
      "source": [
        "# hyperparameters\n",
        "batch_size = 32\n",
        "num_worders = 2\n",
        "lr = 2e-5\n",
        "source_maxlen, reply_maxlen = 30, 50\n",
        "\n",
        "# creating instances of training and dev set\n",
        "covid_set = TwitrerDataset(covid_all, source_maxlen=source_maxlen, reply_maxlen=reply_maxlen)\n",
        "\n",
        "# creating dataset loader\n",
        "covid_loader = DataLoader(covid_set, batch_size=batch_size, num_workers=num_worders)\n",
        "\n",
        "print(\"Done preprocessing training and development data.\")"
      ],
      "execution_count": null,
      "outputs": [
        {
          "output_type": "display_data",
          "data": {
            "application/vnd.jupyter.widget-view+json": {
              "model_id": "51e406d376a24b3f9a546519d0b88ee2",
              "version_minor": 0,
              "version_major": 2
            },
            "text/plain": [
              "HBox(children=(FloatProgress(value=0.0, description='Downloading', max=231508.0, style=ProgressStyle(descripti…"
            ]
          },
          "metadata": {
            "tags": []
          }
        },
        {
          "output_type": "stream",
          "text": [
            "\n"
          ],
          "name": "stdout"
        },
        {
          "output_type": "display_data",
          "data": {
            "application/vnd.jupyter.widget-view+json": {
              "model_id": "0e1824659b0047b3973df041c1c4fa61",
              "version_minor": 0,
              "version_major": 2
            },
            "text/plain": [
              "HBox(children=(FloatProgress(value=0.0, description='Downloading', max=28.0, style=ProgressStyle(description_w…"
            ]
          },
          "metadata": {
            "tags": []
          }
        },
        {
          "output_type": "stream",
          "text": [
            "\n"
          ],
          "name": "stdout"
        },
        {
          "output_type": "display_data",
          "data": {
            "application/vnd.jupyter.widget-view+json": {
              "model_id": "9095128d60b04a748a3d4c93ea255356",
              "version_minor": 0,
              "version_major": 2
            },
            "text/plain": [
              "HBox(children=(FloatProgress(value=0.0, description='Downloading', max=466062.0, style=ProgressStyle(descripti…"
            ]
          },
          "metadata": {
            "tags": []
          }
        },
        {
          "output_type": "stream",
          "text": [
            "\n",
            "Done preprocessing training and development data.\n"
          ],
          "name": "stdout"
        }
      ]
    },
    {
      "cell_type": "code",
      "metadata": {
        "id": "9buk-NlaYRW5"
      },
      "source": [
        ""
      ],
      "execution_count": null,
      "outputs": []
    },
    {
      "cell_type": "code",
      "metadata": {
        "id": "jfXY2l8Rciuf"
      },
      "source": [
        "class RumourClassifier(nn.Module):\n",
        "    def __init__(self):\n",
        "        super(RumourClassifier, self).__init__()\n",
        "        self.bert_layer = BertModel.from_pretrained('bert-base-uncased')\n",
        "        self.cls_layer = nn.Linear(768, 1)\n",
        "        self.dropout = nn.Dropout(0.9)\n",
        "\n",
        "    def forward(self, seq, attn_masks, token_type_ids):\n",
        "        '''\n",
        "        Inputs:\n",
        "          -seq: Tensor of shape [B, T] containing token ids of sequences\n",
        "          -attn_masks: Tensor of shape [B, T] containing attention masks to be used\n",
        "        '''\n",
        "        # feed the input to bert model to obtain contextualized representation\n",
        "        outputs = self.bert_layer(seq, attention_mask=attn_masks, token_type_ids=token_type_ids)\n",
        "        cont_reps = outputs.last_hidden_state\n",
        "\n",
        "        # obtaining the representation of [CLS] head\n",
        "        cls_rep = cont_reps[:, 0]\n",
        "\n",
        "        # pooled_output = self.dropout(cls_rep)\n",
        "\n",
        "        # feeding cls_rep into the classifier layer\n",
        "        logits = self.cls_layer(cls_rep)\n",
        "\n",
        "        return logits"
      ],
      "execution_count": null,
      "outputs": []
    },
    {
      "cell_type": "code",
      "metadata": {
        "colab": {
          "base_uri": "https://localhost:8080/",
          "height": 131,
          "referenced_widgets": [
            "dfc30a21922547d2a99304bed3c86c3a",
            "433b0b6596d147409b504dee533487f1",
            "ea742477795d40399356014dc53d2e4c",
            "0f85d73a976442669925a92344c5c981",
            "5466323f7a00477d84f5a44a815b5ddc",
            "fb0c6b6130484b24afc1720d3b29d5d7",
            "8b6e9bcd78ba4bf19323957cf3b73196",
            "3f7ae64412ff400cb40a06a23136bad1",
            "db33ae578ed841fdbdd500549d44cd6f",
            "9f236ff34a6142f9bcb02845a579a125",
            "575e8e3a50774768b5e4e7f791dca455",
            "81214f06223a48a880f3a557b36cb2da",
            "cbb725fcd8cd427da89971f9ea770cc7",
            "1edfa879ce2f4d6480a5bc73dcc44584",
            "f9aea08fffa44bd999ccdd735249169e",
            "47ca18879f6f4009a4922df48f22181f"
          ]
        },
        "id": "aOUdRPNVcoGi",
        "outputId": "da17e762-679e-42d5-ec2e-05f96865e7d2"
      },
      "source": [
        "path = 'drive/MyDrive/Colab/'\n",
        "gpu = 0\n",
        "\n",
        "bert_net = RumourClassifier()\n",
        "bert_net.load_state_dict(torch.load(path+\"models/adamw_50_date.dat\"))\n",
        "bert_net.cuda(gpu)\n",
        "print(\"loading the model: Done!\")"
      ],
      "execution_count": null,
      "outputs": [
        {
          "output_type": "display_data",
          "data": {
            "application/vnd.jupyter.widget-view+json": {
              "model_id": "dfc30a21922547d2a99304bed3c86c3a",
              "version_minor": 0,
              "version_major": 2
            },
            "text/plain": [
              "HBox(children=(FloatProgress(value=0.0, description='Downloading', max=570.0, style=ProgressStyle(description_…"
            ]
          },
          "metadata": {
            "tags": []
          }
        },
        {
          "output_type": "stream",
          "text": [
            "\n"
          ],
          "name": "stdout"
        },
        {
          "output_type": "display_data",
          "data": {
            "application/vnd.jupyter.widget-view+json": {
              "model_id": "db33ae578ed841fdbdd500549d44cd6f",
              "version_minor": 0,
              "version_major": 2
            },
            "text/plain": [
              "HBox(children=(FloatProgress(value=0.0, description='Downloading', max=440473133.0, style=ProgressStyle(descri…"
            ]
          },
          "metadata": {
            "tags": []
          }
        },
        {
          "output_type": "stream",
          "text": [
            "\n",
            "loading the model: Done!\n"
          ],
          "name": "stdout"
        }
      ]
    },
    {
      "cell_type": "code",
      "metadata": {
        "id": "eHHtTfpZcxID"
      },
      "source": [
        "def predict(net, dataloader, gpu):\n",
        "    net.eval()\n",
        "    preds = []\n",
        "    count = 0\n",
        "    with torch.no_grad():\n",
        "        for seq, attn_masks, token_type_ids in dataloader:\n",
        "            if count % 100 == 0:\n",
        "                print(count)\n",
        "            count += 1\n",
        "            seq, attn_masks, token_type_ids = seq.cuda(gpu), attn_masks.cuda(gpu), token_type_ids.cuda(gpu)\n",
        "            logits = net(seq, attn_masks, token_type_ids)\n",
        "            soft_probs_cpu = (logits > 0).long().cpu().view(-1)\n",
        "            preds.append(soft_probs_cpu)\n",
        "    preds = torch.cat(preds)\n",
        "    return preds"
      ],
      "execution_count": null,
      "outputs": []
    },
    {
      "cell_type": "code",
      "metadata": {
        "id": "4TjBwpaslptR",
        "colab": {
          "base_uri": "https://localhost:8080/"
        },
        "outputId": "68010cb4-b9ff-43d0-af0c-1d587e542fef"
      },
      "source": [
        "gpu = 0\n",
        "\n",
        "bert_preds = predict(bert_net, covid_loader, gpu)"
      ],
      "execution_count": null,
      "outputs": [
        {
          "output_type": "stream",
          "text": [
            "0\n",
            "100\n",
            "200\n",
            "300\n",
            "400\n",
            "500\n"
          ],
          "name": "stdout"
        }
      ]
    },
    {
      "cell_type": "code",
      "metadata": {
        "id": "PMH3HfTN9NGz"
      },
      "source": [
        "num_rumours = sum([1 for label in bert_preds if label==1])\n",
        "num_nonrumours = sum([1 for label in bert_preds if label==0])"
      ],
      "execution_count": null,
      "outputs": []
    },
    {
      "cell_type": "code",
      "metadata": {
        "id": "Udc7VQSw5yZx",
        "colab": {
          "base_uri": "https://localhost:8080/"
        },
        "outputId": "2cab2f6d-487a-43ba-a4c2-2588be25d3ad"
      },
      "source": [
        "print(\"There are {} instances(events) in covid dataset\".format(len(covid_data)))\n",
        "print(\"My bert network classifies {} rumours and {} non-rumours\".format(num_rumours, num_nonrumours))"
      ],
      "execution_count": null,
      "outputs": [
        {
          "output_type": "stream",
          "text": [
            "There are 17458 instances(events) in covid dataset\n",
            "My bert network classifies 1268 rumours and 16190 non-rumours\n"
          ],
          "name": "stdout"
        }
      ]
    },
    {
      "cell_type": "markdown",
      "metadata": {
        "id": "QNKnau-ssnM6"
      },
      "source": [
        "### process and analyze the data"
      ]
    },
    {
      "cell_type": "markdown",
      "metadata": {
        "id": "hsJ_N2S-4Pki"
      },
      "source": [
        "#### What are the popular hashtags of COVID-19 rumours and non-rumours? How much overlap or difference do they share?"
      ]
    },
    {
      "cell_type": "code",
      "metadata": {
        "id": "eO0hWjtd386m",
        "colab": {
          "base_uri": "https://localhost:8080/"
        },
        "outputId": "78d6b37f-dbea-4619-e498-f41adedb3754"
      },
      "source": [
        "# for each event, get their hashtags and corresponding frequencies\n",
        "\n",
        "hashtags = []                          \n",
        "for event in covid_data:\n",
        "    event_hashtags = []\n",
        "    for tw in event:\n",
        "        twitter_hashtags = tw['entities']['hashtags']\n",
        "        for hashtag in twitter_hashtags:\n",
        "            event_hashtags.append(hashtag['text'].lower())\n",
        "    hashtags.append(Counter(event_hashtags))\n",
        "    \n",
        "hashtags[0]"
      ],
      "execution_count": null,
      "outputs": [
        {
          "output_type": "execute_result",
          "data": {
            "text/plain": [
              "Counter({'tenet': 1})"
            ]
          },
          "metadata": {
            "tags": []
          },
          "execution_count": 16
        }
      ]
    },
    {
      "cell_type": "code",
      "metadata": {
        "id": "yF9gwOkV5q3l"
      },
      "source": [
        "rum_hashtags = []         # hashtags for rumour event(classified by my model)\n",
        "nonrum_hashtags = []      # hashtags for non-rumour event(classified by my model)\n",
        "\n",
        "for i in range(len(bert_preds)):\n",
        "    if bert_preds[i] == 1:\n",
        "        rum_hashtags.append(hashtags[i])\n",
        "    elif bert_preds[i] == 0:\n",
        "        nonrum_hashtags.append(hashtags[i])"
      ],
      "execution_count": null,
      "outputs": []
    },
    {
      "cell_type": "markdown",
      "metadata": {
        "id": "Y-cIo7N5EhuZ"
      },
      "source": [
        ""
      ]
    },
    {
      "cell_type": "code",
      "metadata": {
        "id": "5NgkLaGJ7h0y"
      },
      "source": [
        "# combine all the hashtags for rumour and nonrumours respectively\n",
        "combined_rum_hashtags = Counter()\n",
        "for hts in rum_hashtags:\n",
        "    combined_rum_hashtags += hts\n",
        "combined_rum_hashtags = dict([(hs, f/num_rumours) for hs, f in sorted(combined_rum_hashtags.items(), key=lambda x: x[1], reverse=True)])\n",
        "\n",
        "combined_nonrum_hashtags = Counter()\n",
        "for hts in nonrum_hashtags:\n",
        "    combined_nonrum_hashtags += hts\n",
        "combined_nonrum_hashtags = dict([(hs, f/num_nonrumours) for hs, f in sorted(combined_nonrum_hashtags.items(), key=lambda x: x[1], reverse=True)])"
      ],
      "execution_count": null,
      "outputs": []
    },
    {
      "cell_type": "code",
      "metadata": {
        "id": "U5H9NMTH-YeJ",
        "colab": {
          "base_uri": "https://localhost:8080/"
        },
        "outputId": "f3682b4b-7b58-43da-9bb2-059f8bc9fb21"
      },
      "source": [
        "num_nonrumours, num_rumours"
      ],
      "execution_count": null,
      "outputs": [
        {
          "output_type": "execute_result",
          "data": {
            "text/plain": [
              "(16190, 1268)"
            ]
          },
          "metadata": {
            "tags": []
          },
          "execution_count": 23
        }
      ]
    },
    {
      "cell_type": "code",
      "metadata": {
        "colab": {
          "base_uri": "https://localhost:8080/"
        },
        "id": "qhvhteIyEAGF",
        "outputId": "c5c6068d-4c43-43a4-e313-c9c1e808ba03"
      },
      "source": [
        "len(combined_nonrum_hashtags), len(combined_rum_hashtags)"
      ],
      "execution_count": null,
      "outputs": [
        {
          "output_type": "execute_result",
          "data": {
            "text/plain": [
              "(24591, 2257)"
            ]
          },
          "metadata": {
            "tags": []
          },
          "execution_count": 24
        }
      ]
    },
    {
      "cell_type": "code",
      "metadata": {
        "colab": {
          "base_uri": "https://localhost:8080/"
        },
        "id": "GTcS7Z2Xuoen",
        "outputId": "fbd7d2ba-9964-49bd-f7ae-ae329d8d7824"
      },
      "source": [
        "top100_rum_hts = dict(list(combined_rum_hashtags.items())[:100])\n",
        "top100_nonrum_hts = dict(list(combined_nonrum_hashtags.items())[:100])\n",
        "\n",
        "# find the overlap of top100 of rumour hashtags and top100 of non-rumour hashtags, and the hashtags that only in rumours, and the hashtags that only in non-rumours\n",
        "overlaps = []           # (hashtag, frequency in rumours, frequency in non-rumours)\n",
        "only_rumours = []\n",
        "only_nonrumours = []\n",
        "for ht in top100_rum_hts:\n",
        "    if ht in top100_nonrum_hts:\n",
        "        overlaps.append((ht, top100_rum_hts[ht], top100_nonrum_hts[ht]))\n",
        "    else:\n",
        "        only_rumours.append((ht, top100_rum_hts[ht]))\n",
        "\n",
        "for ht in top100_nonrum_hts:\n",
        "   if ht not in top100_rum_hts:\n",
        "       only_nonrumours.append((ht, top100_nonrum_hts[ht]))\n",
        "\n",
        "print(\"There are {} hashtags both in rumours and non-rumours, {} hashtags only in rumours, {} hashtags only in non-rumours\".format(len(overlaps), len(only_rumours), len(only_nonrumours)))"
      ],
      "execution_count": null,
      "outputs": [
        {
          "output_type": "stream",
          "text": [
            "There are 68 hashtags both in rumours and non-rumours, 32 hashtags only in rumours, 32 hashtags only in non-rumours\n"
          ],
          "name": "stdout"
        }
      ]
    },
    {
      "cell_type": "code",
      "metadata": {
        "colab": {
          "base_uri": "https://localhost:8080/"
        },
        "id": "pkVkq4GyFIta",
        "outputId": "e98620b9-279f-496f-bd22-89c940177eef"
      },
      "source": [
        "# average frequency in top 100 rumours (and top 100 non-rumours)\n",
        "avg_freq_rum = np.mean(list(top100_rum_hts.values()))\n",
        "avg_freq_nonrum = np.mean(list(top100_nonrum_hts.values()))\n",
        "\n",
        "print(\"average frequency among top 100 frequentiest hashtags in rumours: {}\".format(avg_freq_rum))\n",
        "print(\"average frequency among top 100 frequentiest hashtags in non-rumours: {}\".format(avg_freq_nonrum))"
      ],
      "execution_count": null,
      "outputs": [
        {
          "output_type": "stream",
          "text": [
            "average frequency among top 100 frequentiest hashtags in rumours: 0.029952681388012624\n",
            "average frequency among top 100 frequentiest hashtags in non-rumours: 0.05448486720197652\n"
          ],
          "name": "stdout"
        }
      ]
    },
    {
      "cell_type": "code",
      "metadata": {
        "colab": {
          "base_uri": "https://localhost:8080/",
          "height": 639
        },
        "id": "GfEw7bhw090Q",
        "outputId": "d807d9b2-f8c4-4d8f-9e80-803053ff980b"
      },
      "source": [
        "import pandas as pd\n",
        "pd.DataFrame(only_rumours[:20], columns=[\"hashtag\", \"rumour_freq\"])"
      ],
      "execution_count": null,
      "outputs": [
        {
          "output_type": "execute_result",
          "data": {
            "text/html": [
              "<div>\n",
              "<style scoped>\n",
              "    .dataframe tbody tr th:only-of-type {\n",
              "        vertical-align: middle;\n",
              "    }\n",
              "\n",
              "    .dataframe tbody tr th {\n",
              "        vertical-align: top;\n",
              "    }\n",
              "\n",
              "    .dataframe thead th {\n",
              "        text-align: right;\n",
              "    }\n",
              "</style>\n",
              "<table border=\"1\" class=\"dataframe\">\n",
              "  <thead>\n",
              "    <tr style=\"text-align: right;\">\n",
              "      <th></th>\n",
              "      <th>hashtag</th>\n",
              "      <th>rumour_freq</th>\n",
              "    </tr>\n",
              "  </thead>\n",
              "  <tbody>\n",
              "    <tr>\n",
              "      <th>0</th>\n",
              "      <td>breaking</td>\n",
              "      <td>0.029180</td>\n",
              "    </tr>\n",
              "    <tr>\n",
              "      <th>1</th>\n",
              "      <td>georgefloyd</td>\n",
              "      <td>0.022082</td>\n",
              "    </tr>\n",
              "    <tr>\n",
              "      <th>2</th>\n",
              "      <td>wuhan</td>\n",
              "      <td>0.014196</td>\n",
              "    </tr>\n",
              "    <tr>\n",
              "      <th>3</th>\n",
              "      <td>trumpandemic</td>\n",
              "      <td>0.012618</td>\n",
              "    </tr>\n",
              "    <tr>\n",
              "      <th>4</th>\n",
              "      <td>covid19ph</td>\n",
              "      <td>0.009464</td>\n",
              "    </tr>\n",
              "    <tr>\n",
              "      <th>5</th>\n",
              "      <td>riots2020</td>\n",
              "      <td>0.009464</td>\n",
              "    </tr>\n",
              "    <tr>\n",
              "      <th>6</th>\n",
              "      <td>firetrump</td>\n",
              "      <td>0.009464</td>\n",
              "    </tr>\n",
              "    <tr>\n",
              "      <th>7</th>\n",
              "      <td>dominiccummings</td>\n",
              "      <td>0.008675</td>\n",
              "    </tr>\n",
              "    <tr>\n",
              "      <th>8</th>\n",
              "      <td>india</td>\n",
              "      <td>0.007886</td>\n",
              "    </tr>\n",
              "    <tr>\n",
              "      <th>9</th>\n",
              "      <td>hoax</td>\n",
              "      <td>0.007886</td>\n",
              "    </tr>\n",
              "    <tr>\n",
              "      <th>10</th>\n",
              "      <td>fauci</td>\n",
              "      <td>0.007098</td>\n",
              "    </tr>\n",
              "    <tr>\n",
              "      <th>11</th>\n",
              "      <td>justiceforgeorgefloyd</td>\n",
              "      <td>0.007098</td>\n",
              "    </tr>\n",
              "    <tr>\n",
              "      <th>12</th>\n",
              "      <td>auspol</td>\n",
              "      <td>0.007098</td>\n",
              "    </tr>\n",
              "    <tr>\n",
              "      <th>13</th>\n",
              "      <td>obamagate</td>\n",
              "      <td>0.007098</td>\n",
              "    </tr>\n",
              "    <tr>\n",
              "      <th>14</th>\n",
              "      <td>cummings</td>\n",
              "      <td>0.007098</td>\n",
              "    </tr>\n",
              "    <tr>\n",
              "      <th>15</th>\n",
              "      <td>trumpgate</td>\n",
              "      <td>0.007098</td>\n",
              "    </tr>\n",
              "    <tr>\n",
              "      <th>16</th>\n",
              "      <td>bleach</td>\n",
              "      <td>0.006309</td>\n",
              "    </tr>\n",
              "    <tr>\n",
              "      <th>17</th>\n",
              "      <td>disinfectant</td>\n",
              "      <td>0.006309</td>\n",
              "    </tr>\n",
              "    <tr>\n",
              "      <th>18</th>\n",
              "      <td>brazil</td>\n",
              "      <td>0.006309</td>\n",
              "    </tr>\n",
              "    <tr>\n",
              "      <th>19</th>\n",
              "      <td>resignnowtrump</td>\n",
              "      <td>0.006309</td>\n",
              "    </tr>\n",
              "  </tbody>\n",
              "</table>\n",
              "</div>"
            ],
            "text/plain": [
              "                  hashtag  rumour_freq\n",
              "0                breaking     0.029180\n",
              "1             georgefloyd     0.022082\n",
              "2                   wuhan     0.014196\n",
              "3            trumpandemic     0.012618\n",
              "4               covid19ph     0.009464\n",
              "5               riots2020     0.009464\n",
              "6               firetrump     0.009464\n",
              "7         dominiccummings     0.008675\n",
              "8                   india     0.007886\n",
              "9                    hoax     0.007886\n",
              "10                  fauci     0.007098\n",
              "11  justiceforgeorgefloyd     0.007098\n",
              "12                 auspol     0.007098\n",
              "13              obamagate     0.007098\n",
              "14               cummings     0.007098\n",
              "15              trumpgate     0.007098\n",
              "16                 bleach     0.006309\n",
              "17           disinfectant     0.006309\n",
              "18                 brazil     0.006309\n",
              "19         resignnowtrump     0.006309"
            ]
          },
          "metadata": {
            "tags": []
          },
          "execution_count": 81
        }
      ]
    },
    {
      "cell_type": "code",
      "metadata": {
        "colab": {
          "base_uri": "https://localhost:8080/",
          "height": 162
        },
        "id": "vnzTfnQ_-G8c",
        "outputId": "53b518a1-450b-496b-a83b-528f07f41f60"
      },
      "source": [
        "pd.DataFrame(only_nonrumours[:20], columns=[\"hashtag\", \"nonrumour_freq\"])"
      ],
      "execution_count": null,
      "outputs": [
        {
          "output_type": "error",
          "ename": "NameError",
          "evalue": "ignored",
          "traceback": [
            "\u001b[0;31m---------------------------------------------------------------------------\u001b[0m",
            "\u001b[0;31mNameError\u001b[0m                                 Traceback (most recent call last)",
            "\u001b[0;32m<ipython-input-1-f78386a797fa>\u001b[0m in \u001b[0;36m<module>\u001b[0;34m()\u001b[0m\n\u001b[0;32m----> 1\u001b[0;31m \u001b[0mpd\u001b[0m\u001b[0;34m.\u001b[0m\u001b[0mDataFrame\u001b[0m\u001b[0;34m(\u001b[0m\u001b[0monly_nonrumours\u001b[0m\u001b[0;34m[\u001b[0m\u001b[0;34m:\u001b[0m\u001b[0;36m20\u001b[0m\u001b[0;34m]\u001b[0m\u001b[0;34m,\u001b[0m \u001b[0mcolumns\u001b[0m\u001b[0;34m=\u001b[0m\u001b[0;34m[\u001b[0m\u001b[0;34m\"hashtag\"\u001b[0m\u001b[0;34m,\u001b[0m \u001b[0;34m\"nonrumour_freq\"\u001b[0m\u001b[0;34m]\u001b[0m\u001b[0;34m)\u001b[0m\u001b[0;34m\u001b[0m\u001b[0;34m\u001b[0m\u001b[0m\n\u001b[0m",
            "\u001b[0;31mNameError\u001b[0m: name 'pd' is not defined"
          ]
        }
      ]
    },
    {
      "cell_type": "code",
      "metadata": {
        "colab": {
          "base_uri": "https://localhost:8080/",
          "height": 178
        },
        "id": "m6DDJI92RbIJ",
        "outputId": "3a42f892-c7b3-4cbf-d144-6d656d9e43c6"
      },
      "source": [
        "pd.DataFrame(overlaps[:20], columns=[\"hashtag\", \"rumour_freq\", \"nonrumour_freq\"])"
      ],
      "execution_count": null,
      "outputs": [
        {
          "output_type": "error",
          "ename": "NameError",
          "evalue": "ignored",
          "traceback": [
            "\u001b[0;31m---------------------------------------------------------------------------\u001b[0m",
            "\u001b[0;31mNameError\u001b[0m                                 Traceback (most recent call last)",
            "\u001b[0;32m<ipython-input-2-3bf12c513d02>\u001b[0m in \u001b[0;36m<module>\u001b[0;34m()\u001b[0m\n\u001b[0;32m----> 1\u001b[0;31m \u001b[0mpd\u001b[0m\u001b[0;34m.\u001b[0m\u001b[0mDataFrame\u001b[0m\u001b[0;34m(\u001b[0m\u001b[0moverlaps\u001b[0m\u001b[0;34m[\u001b[0m\u001b[0;34m:\u001b[0m\u001b[0;36m20\u001b[0m\u001b[0;34m]\u001b[0m\u001b[0;34m,\u001b[0m \u001b[0mcolumns\u001b[0m\u001b[0;34m=\u001b[0m\u001b[0;34m[\u001b[0m\u001b[0;34m\"hashtag\"\u001b[0m\u001b[0;34m,\u001b[0m \u001b[0;34m\"rumour_freq\"\u001b[0m\u001b[0;34m,\u001b[0m \u001b[0;34m\"nonrumour_freq\"\u001b[0m\u001b[0;34m]\u001b[0m\u001b[0;34m)\u001b[0m\u001b[0;34m\u001b[0m\u001b[0;34m\u001b[0m\u001b[0m\n\u001b[0m",
            "\u001b[0;31mNameError\u001b[0m: name 'pd' is not defined"
          ]
        }
      ]
    },
    {
      "cell_type": "code",
      "metadata": {
        "id": "lKC2R0NfYred"
      },
      "source": [
        ""
      ],
      "execution_count": null,
      "outputs": []
    },
    {
      "cell_type": "markdown",
      "metadata": {
        "id": "9kkXUXWRnF8z"
      },
      "source": [
        "#### Do rumour source tweets convey a different sentiment/emotion to the non-rumour source tweets? What about their replies?"
      ]
    },
    {
      "cell_type": "code",
      "metadata": {
        "id": "wuC55lFEnGiD"
      },
      "source": [
        "!pip install   spacy\n",
        "!pip install   spacytextblob\n",
        "!python -m spacy download en_core_web_sm"
      ],
      "execution_count": null,
      "outputs": []
    },
    {
      "cell_type": "code",
      "metadata": {
        "id": "3g3Tkkgw4JAN"
      },
      "source": [
        "path = 'drive/MyDrive/Colab/'\n",
        "bert_preds = torch.load(path + \"models/preds.pt\")"
      ],
      "execution_count": null,
      "outputs": []
    },
    {
      "cell_type": "code",
      "metadata": {
        "colab": {
          "base_uri": "https://localhost:8080/"
        },
        "id": "ufzmdIIQn-Tr",
        "outputId": "20f5cd84-bebb-4898-a6b2-2a70af9076d2"
      },
      "source": [
        "import spacy\n",
        "from spacytextblob.spacytextblob import SpacyTextBlob\n",
        "\n",
        "nlp = spacy.load('en_core_web_sm')\n",
        "nlp.add_pipe('spacytextblob')\n",
        "text = 'it is  a good thing '\n",
        "doc = nlp(text)\n",
        "print(doc._.polarity)      # Polarity: -0.125\n",
        "print(doc._.subjectivity)  # Sujectivity: 0.9\n",
        "print(doc._.assessments)   # Assessments: [(['really', 'horrible'], -1.0, 1.0, None), (['worst', '!'], -1.0, 1.0, None), (['really', 'good'], 0.7, 0.6000000000000001, None), (['happy'], 0.8, 1.0, None)]"
      ],
      "execution_count": null,
      "outputs": [
        {
          "output_type": "stream",
          "text": [
            "0.7\n",
            "0.6000000000000001\n",
            "[(['good'], 0.7, 0.6000000000000001, None)]\n"
          ],
          "name": "stdout"
        }
      ]
    },
    {
      "cell_type": "code",
      "metadata": {
        "id": "Xa-4I2EGqbRy"
      },
      "source": [
        "def extract_info(data, info=\"text\"):\n",
        "    res = []\n",
        "    for i in range(len(data)):\n",
        "        event = data[i]\n",
        "        event_info = []\n",
        "        for tw in event:\n",
        "            event_info.append(tw[info])\n",
        "        res.append(event_info)\n",
        "    return res\n",
        "\n",
        "covid_sents = extract_info(covid_data)     # {event}  where event={source,apply1,apply2,...}"
      ],
      "execution_count": null,
      "outputs": []
    },
    {
      "cell_type": "code",
      "metadata": {
        "id": "kudYgBQlvD0v"
      },
      "source": [
        "def sentiment_marker(sent):\n",
        "    nlp = spacy.load('en_core_web_sm')\n",
        "    nlp.add_pipe('spacytextblob')\n",
        "    doc = nlp(sent)\n",
        "    polarity = doc._.polarity     \n",
        "    subjectivity = doc._.subjectivity \n",
        "    return polarity, subjectivity"
      ],
      "execution_count": null,
      "outputs": []
    },
    {
      "cell_type": "code",
      "metadata": {
        "colab": {
          "base_uri": "https://localhost:8080/"
        },
        "id": "K45N5J9Yvpj4",
        "outputId": "e303e26b-d772-48eb-91e1-990f7ea0d7ca"
      },
      "source": [
        "sentiment_sources = []                    # sentiment analysis on every comment(source+reply)\n",
        "start = time.time()\n",
        "for i in range(len(covid_sents)):\n",
        "    if i % 10 == 0:\n",
        "        print(i)\n",
        "    event = covid_sents[i]\n",
        "    sentiment = sentiment_marker(event[0])\n",
        "    sentiment_sources.append(sentiment)\n",
        "\n",
        "end = time.time()\n",
        "end - start"
      ],
      "execution_count": null,
      "outputs": [
        {
          "output_type": "stream",
          "text": [
            "0\n",
            "10\n",
            "20\n",
            "30\n",
            "40\n",
            "50\n",
            "60\n",
            "70\n",
            "80\n",
            "90\n",
            "100\n",
            "110\n",
            "120\n",
            "130\n",
            "140\n",
            "150\n",
            "160\n",
            "170\n",
            "180\n",
            "190\n",
            "200\n",
            "210\n",
            "220\n",
            "230\n",
            "240\n",
            "250\n",
            "260\n",
            "270\n",
            "280\n",
            "290\n",
            "300\n",
            "310\n",
            "320\n",
            "330\n",
            "340\n",
            "350\n",
            "360\n",
            "370\n",
            "380\n",
            "390\n",
            "400\n",
            "410\n",
            "420\n",
            "430\n",
            "440\n",
            "450\n",
            "460\n",
            "470\n",
            "480\n",
            "490\n",
            "500\n",
            "510\n",
            "520\n",
            "530\n",
            "540\n",
            "550\n",
            "560\n",
            "570\n",
            "580\n",
            "590\n",
            "600\n",
            "610\n",
            "620\n",
            "630\n",
            "640\n",
            "650\n",
            "660\n",
            "670\n",
            "680\n",
            "690\n",
            "700\n",
            "710\n",
            "720\n",
            "730\n",
            "740\n",
            "750\n",
            "760\n",
            "770\n",
            "780\n",
            "790\n",
            "800\n",
            "810\n",
            "820\n",
            "830\n",
            "840\n",
            "850\n",
            "860\n",
            "870\n",
            "880\n",
            "890\n",
            "900\n",
            "910\n",
            "920\n",
            "930\n",
            "940\n",
            "950\n",
            "960\n",
            "970\n",
            "980\n",
            "990\n",
            "1000\n",
            "1010\n",
            "1020\n",
            "1030\n",
            "1040\n",
            "1050\n",
            "1060\n",
            "1070\n",
            "1080\n",
            "1090\n",
            "1100\n",
            "1110\n",
            "1120\n",
            "1130\n",
            "1140\n",
            "1150\n",
            "1160\n",
            "1170\n",
            "1180\n",
            "1190\n",
            "1200\n",
            "1210\n",
            "1220\n",
            "1230\n",
            "1240\n",
            "1250\n",
            "1260\n",
            "1270\n",
            "1280\n",
            "1290\n",
            "1300\n",
            "1310\n",
            "1320\n",
            "1330\n",
            "1340\n",
            "1350\n",
            "1360\n",
            "1370\n",
            "1380\n",
            "1390\n",
            "1400\n",
            "1410\n",
            "1420\n",
            "1430\n",
            "1440\n",
            "1450\n",
            "1460\n",
            "1470\n",
            "1480\n",
            "1490\n",
            "1500\n",
            "1510\n",
            "1520\n",
            "1530\n",
            "1540\n",
            "1550\n",
            "1560\n",
            "1570\n",
            "1580\n",
            "1590\n",
            "1600\n",
            "1610\n",
            "1620\n",
            "1630\n",
            "1640\n",
            "1650\n",
            "1660\n",
            "1670\n",
            "1680\n",
            "1690\n",
            "1700\n",
            "1710\n",
            "1720\n",
            "1730\n",
            "1740\n",
            "1750\n",
            "1760\n",
            "1770\n",
            "1780\n",
            "1790\n",
            "1800\n",
            "1810\n",
            "1820\n",
            "1830\n",
            "1840\n",
            "1850\n",
            "1860\n",
            "1870\n",
            "1880\n",
            "1890\n",
            "1900\n",
            "1910\n",
            "1920\n",
            "1930\n",
            "1940\n",
            "1950\n",
            "1960\n",
            "1970\n",
            "1980\n",
            "1990\n",
            "2000\n",
            "2010\n",
            "2020\n",
            "2030\n",
            "2040\n",
            "2050\n",
            "2060\n",
            "2070\n",
            "2080\n",
            "2090\n",
            "2100\n",
            "2110\n",
            "2120\n",
            "2130\n",
            "2140\n",
            "2150\n",
            "2160\n",
            "2170\n",
            "2180\n",
            "2190\n",
            "2200\n",
            "2210\n",
            "2220\n",
            "2230\n",
            "2240\n",
            "2250\n",
            "2260\n",
            "2270\n",
            "2280\n",
            "2290\n",
            "2300\n",
            "2310\n",
            "2320\n",
            "2330\n",
            "2340\n",
            "2350\n",
            "2360\n",
            "2370\n",
            "2380\n",
            "2390\n",
            "2400\n",
            "2410\n",
            "2420\n",
            "2430\n",
            "2440\n",
            "2450\n",
            "2460\n",
            "2470\n",
            "2480\n",
            "2490\n",
            "2500\n",
            "2510\n",
            "2520\n",
            "2530\n",
            "2540\n",
            "2550\n",
            "2560\n",
            "2570\n",
            "2580\n",
            "2590\n",
            "2600\n",
            "2610\n",
            "2620\n",
            "2630\n",
            "2640\n",
            "2650\n",
            "2660\n",
            "2670\n",
            "2680\n",
            "2690\n",
            "2700\n",
            "2710\n",
            "2720\n",
            "2730\n",
            "2740\n",
            "2750\n",
            "2760\n",
            "2770\n",
            "2780\n",
            "2790\n",
            "2800\n",
            "2810\n",
            "2820\n",
            "2830\n",
            "2840\n",
            "2850\n",
            "2860\n",
            "2870\n",
            "2880\n",
            "2890\n",
            "2900\n",
            "2910\n",
            "2920\n",
            "2930\n",
            "2940\n",
            "2950\n",
            "2960\n",
            "2970\n",
            "2980\n",
            "2990\n",
            "3000\n",
            "3010\n",
            "3020\n",
            "3030\n",
            "3040\n",
            "3050\n",
            "3060\n",
            "3070\n",
            "3080\n",
            "3090\n",
            "3100\n",
            "3110\n",
            "3120\n",
            "3130\n",
            "3140\n",
            "3150\n",
            "3160\n",
            "3170\n",
            "3180\n",
            "3190\n",
            "3200\n",
            "3210\n",
            "3220\n",
            "3230\n",
            "3240\n",
            "3250\n",
            "3260\n",
            "3270\n",
            "3280\n",
            "3290\n",
            "3300\n",
            "3310\n",
            "3320\n",
            "3330\n",
            "3340\n",
            "3350\n",
            "3360\n",
            "3370\n",
            "3380\n",
            "3390\n",
            "3400\n",
            "3410\n",
            "3420\n",
            "3430\n",
            "3440\n",
            "3450\n",
            "3460\n",
            "3470\n",
            "3480\n",
            "3490\n",
            "3500\n",
            "3510\n",
            "3520\n",
            "3530\n",
            "3540\n",
            "3550\n",
            "3560\n",
            "3570\n",
            "3580\n",
            "3590\n",
            "3600\n",
            "3610\n",
            "3620\n",
            "3630\n",
            "3640\n",
            "3650\n",
            "3660\n",
            "3670\n",
            "3680\n",
            "3690\n",
            "3700\n",
            "3710\n",
            "3720\n",
            "3730\n",
            "3740\n",
            "3750\n",
            "3760\n",
            "3770\n",
            "3780\n",
            "3790\n",
            "3800\n",
            "3810\n",
            "3820\n",
            "3830\n",
            "3840\n",
            "3850\n",
            "3860\n",
            "3870\n",
            "3880\n",
            "3890\n",
            "3900\n",
            "3910\n",
            "3920\n",
            "3930\n",
            "3940\n",
            "3950\n",
            "3960\n",
            "3970\n",
            "3980\n",
            "3990\n",
            "4000\n",
            "4010\n",
            "4020\n",
            "4030\n",
            "4040\n",
            "4050\n",
            "4060\n",
            "4070\n",
            "4080\n",
            "4090\n",
            "4100\n",
            "4110\n",
            "4120\n",
            "4130\n",
            "4140\n",
            "4150\n",
            "4160\n",
            "4170\n",
            "4180\n",
            "4190\n",
            "4200\n",
            "4210\n",
            "4220\n",
            "4230\n",
            "4240\n",
            "4250\n",
            "4260\n",
            "4270\n",
            "4280\n",
            "4290\n",
            "4300\n",
            "4310\n",
            "4320\n",
            "4330\n",
            "4340\n",
            "4350\n",
            "4360\n",
            "4370\n",
            "4380\n",
            "4390\n",
            "4400\n",
            "4410\n",
            "4420\n",
            "4430\n",
            "4440\n",
            "4450\n",
            "4460\n",
            "4470\n",
            "4480\n",
            "4490\n",
            "4500\n",
            "4510\n",
            "4520\n",
            "4530\n",
            "4540\n",
            "4550\n",
            "4560\n",
            "4570\n",
            "4580\n",
            "4590\n",
            "4600\n",
            "4610\n",
            "4620\n",
            "4630\n",
            "4640\n",
            "4650\n",
            "4660\n",
            "4670\n",
            "4680\n",
            "4690\n",
            "4700\n",
            "4710\n",
            "4720\n",
            "4730\n",
            "4740\n",
            "4750\n",
            "4760\n",
            "4770\n",
            "4780\n",
            "4790\n",
            "4800\n",
            "4810\n",
            "4820\n",
            "4830\n",
            "4840\n",
            "4850\n",
            "4860\n",
            "4870\n",
            "4880\n",
            "4890\n",
            "4900\n",
            "4910\n",
            "4920\n",
            "4930\n",
            "4940\n",
            "4950\n",
            "4960\n",
            "4970\n",
            "4980\n",
            "4990\n",
            "5000\n",
            "5010\n",
            "5020\n",
            "5030\n",
            "5040\n",
            "5050\n",
            "5060\n",
            "5070\n",
            "5080\n",
            "5090\n",
            "5100\n",
            "5110\n",
            "5120\n",
            "5130\n",
            "5140\n",
            "5150\n",
            "5160\n",
            "5170\n",
            "5180\n",
            "5190\n",
            "5200\n",
            "5210\n",
            "5220\n",
            "5230\n",
            "5240\n",
            "5250\n",
            "5260\n",
            "5270\n",
            "5280\n",
            "5290\n",
            "5300\n",
            "5310\n",
            "5320\n",
            "5330\n",
            "5340\n",
            "5350\n",
            "5360\n",
            "5370\n",
            "5380\n",
            "5390\n",
            "5400\n",
            "5410\n",
            "5420\n",
            "5430\n",
            "5440\n",
            "5450\n",
            "5460\n",
            "5470\n",
            "5480\n"
          ],
          "name": "stdout"
        }
      ]
    },
    {
      "cell_type": "code",
      "metadata": {
        "id": "FZOCYL1g9vBC"
      },
      "source": [
        ""
      ],
      "execution_count": null,
      "outputs": []
    }
  ]
}